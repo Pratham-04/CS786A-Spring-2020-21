{
 "cells": [
  {
   "cell_type": "code",
   "execution_count": 14,
   "metadata": {},
   "outputs": [],
   "source": [
    "# Pratham Shukla | 17816497\n",
    "# Q1, the structure of the code was taken from Harsh Arora (20218266).\n",
    "import numpy as np\n",
    "import matplotlib.pyplot as plt"
   ]
  },
  {
   "cell_type": "code",
   "execution_count": 46,
   "metadata": {},
   "outputs": [],
   "source": [
    "def boolf(x,y,z):\n",
    "    f1 = x&(~y)&(~z)   \n",
    "    return f1\n",
    "def sigm_hypoth(x,deriv=False):\n",
    "    if(deriv==True):\n",
    "        return x*(1-x)\n",
    "\n",
    "    return 1/(1+np.exp(-x))\n",
    "def set_weights():\n",
    "    \n",
    "    np.random.seed(1)\n",
    "    w1 = 2*np.random.random((3,6)) - 1\n",
    "    w2 = 2*np.random.random((6,1)) - 1\n",
    "    \n",
    "    return w1,w2\n",
    "\n",
    "def train(X,Y):\n",
    "    \n",
    "    w1,w2 = set_weights()\n",
    "    losses = []\n",
    "    for j in range(5000):\n",
    "\n",
    "        l0 = X\n",
    "        l1 = sigm_hypoth(np.dot(l0,w1))\n",
    "        l2 = sigm_hypoth(np.dot(l1,w2))\n",
    "\n",
    "        l2_error = Y - l2\n",
    "\n",
    "        if (j% 10) == 0:\n",
    "            loss = np.mean(np.abs(l2_error))\n",
    "            losses.append(loss)\n",
    "\n",
    "        l2_delta = l2_error*sigm_hypoth(l2,deriv=True)\n",
    "\n",
    "        l1_error = l2_delta.dot(w2.T)\n",
    "\n",
    "        l1_delta = l1_error * sigm_hypoth(l1,deriv=True)\n",
    "\n",
    "        w2 += l1.T.dot(l2_delta)\n",
    "        w1 += l0.T.dot(l1_delta)\n",
    "        \n",
    "        weights = (w1,w2)\n",
    "        \n",
    "    return losses,weights\n",
    "def pred(x):\n",
    "    a1 = sigm_hypoth(np.dot(x,wl1))\n",
    "    a2 = sigm_hypoth(np.dot(a1,wl2))\n",
    "    if a2>=0.95:\n",
    "        return 1\n",
    "    elif a2<0.05:\n",
    "        return 0"
   ]
  },
  {
   "cell_type": "code",
   "execution_count": 47,
   "metadata": {},
   "outputs": [],
   "source": [
    "x_sample = [[0,1,0],[0,1,1],[1,0,0],[1,0,1],[0,0,0],[0,0,1],[1,1,0],[1,1,1]]\n",
    "X=np.array(x_sample)\n",
    "Y=np.zeros(np.shape(X)[0])\n",
    "\n",
    "for i in range(len(X)):\n",
    "    x,y,z = X[i]\n",
    "    Y[i] = boolf(x,y,z)\n",
    "\n",
    "Y= np.expand_dims(Y,-1)\n",
    "losses,weights = train(X,Y)\n",
    "wl1,wl2= weights"
   ]
  },
  {
   "cell_type": "code",
   "execution_count": 48,
   "metadata": {},
   "outputs": [
    {
     "name": "stdout",
     "output_type": "stream",
     "text": [
      "Y:      [0. 0. 1. 0. 0. 0. 0. 0.]\n",
      "Y_pred: [0, 0, 1, 0, 0, 0, 0, 0]\n"
     ]
    }
   ],
   "source": [
    "y_pred = [pred(x) for x in X]\n",
    "print('Y:     ', Y[:,0])\n",
    "print('Y_pred:',y_pred)"
   ]
  },
  {
   "cell_type": "code",
   "execution_count": 49,
   "metadata": {},
   "outputs": [],
   "source": [
    "#defining 5 boolean functions\n",
    "f1 = np.zeros((8,1))\n",
    "f2 = np.zeros((8,1))\n",
    "f3 = np.zeros((8,1))\n",
    "f4 = np.zeros((8,1))\n",
    "f5 = np.zeros((8,1))\n",
    "\n",
    "for i in range(8):\n",
    "    x,y,z = X[i]\n",
    "    f1[i] = x & y | z\n",
    "    f2[i] = x & y & z\n",
    "    f3[i] = (~x & y) | z\n",
    "    f4[i] = x|z & y|z\n",
    "    f5[i] = x|y|z"
   ]
  },
  {
   "cell_type": "code",
   "execution_count": 50,
   "metadata": {},
   "outputs": [],
   "source": [
    "l1,wf1 = train(X,f1)\n",
    "l2,wf2 = train(X,f2)\n",
    "l3,wf3 = train(X,f3)\n",
    "l4,wf4 = train(X,f4)\n",
    "l5,wf5 = train(X,f5)"
   ]
  },
  {
   "cell_type": "code",
   "execution_count": 51,
   "metadata": {},
   "outputs": [
    {
     "name": "stdout",
     "output_type": "stream",
     "text": [
      "Y:      [0. 1. 0. 1. 0. 1. 1. 1.]\n",
      "Y_pred: [0, 1, 0, 1, 0, 1, 1, 1]\n"
     ]
    }
   ],
   "source": [
    "#function 1\n",
    "wl1,wl2= wf1\n",
    "y_pred1 = [pred(x) for x in X]\n",
    "print('Y:     ', f1[:,0])\n",
    "print('Y_pred:',y_pred1)"
   ]
  },
  {
   "cell_type": "code",
   "execution_count": 52,
   "metadata": {},
   "outputs": [
    {
     "name": "stdout",
     "output_type": "stream",
     "text": [
      "Y:      [0. 0. 0. 0. 0. 0. 0. 1.]\n",
      "Y_pred: [0, 0, 0, 0, 0, 0, 0, 1]\n"
     ]
    }
   ],
   "source": [
    "#function 2\n",
    "wl1,wl2= wf2\n",
    "y_pred1 = [pred(x) for x in X]\n",
    "print('Y:     ', f2[:,0])\n",
    "print('Y_pred:',y_pred1)"
   ]
  },
  {
   "cell_type": "code",
   "execution_count": 53,
   "metadata": {},
   "outputs": [
    {
     "name": "stdout",
     "output_type": "stream",
     "text": [
      "Y:      [1. 1. 0. 1. 0. 1. 0. 1.]\n",
      "Y_pred: [1, 1, 0, 1, 0, 1, 0, 1]\n"
     ]
    }
   ],
   "source": [
    "#function 3\n",
    "wl1,wl2= wf3\n",
    "y_pred1 = [pred(x) for x in X]\n",
    "print('Y:     ', f3[:,0])\n",
    "print('Y_pred:',y_pred1)"
   ]
  },
  {
   "cell_type": "code",
   "execution_count": 54,
   "metadata": {},
   "outputs": [
    {
     "name": "stdout",
     "output_type": "stream",
     "text": [
      "Y:      [0. 1. 1. 1. 0. 1. 1. 1.]\n",
      "Y_pred: [0, 1, 1, 1, 0, 1, 1, 1]\n"
     ]
    }
   ],
   "source": [
    "#function 4\n",
    "wl1,wl2= wf4\n",
    "y_pred1 = [pred(x) for x in X]\n",
    "print('Y:     ', f4[:,0])\n",
    "print('Y_pred:',y_pred1)"
   ]
  },
  {
   "cell_type": "code",
   "execution_count": 55,
   "metadata": {},
   "outputs": [
    {
     "name": "stdout",
     "output_type": "stream",
     "text": [
      "Y:      [1. 1. 1. 1. 0. 1. 1. 1.]\n",
      "Y_pred: [1, 1, 1, 1, 0, 1, 1, 1]\n"
     ]
    }
   ],
   "source": [
    "#function 5\n",
    "wl1,wl2= wf5\n",
    "y_pred1 = [pred(x) for x in X]\n",
    "print('Y:     ', f5[:,0])\n",
    "print('Y_pred:',y_pred1)"
   ]
  },
  {
   "cell_type": "markdown",
   "metadata": {},
   "source": [
    "The neural network trains correctly. The prediction matches with the actual completely."
   ]
  },
  {
   "cell_type": "code",
   "execution_count": null,
   "metadata": {},
   "outputs": [],
   "source": []
  }
 ],
 "metadata": {
  "kernelspec": {
   "display_name": "Python 3",
   "language": "python",
   "name": "python3"
  },
  "language_info": {
   "codemirror_mode": {
    "name": "ipython",
    "version": 3
   },
   "file_extension": ".py",
   "mimetype": "text/x-python",
   "name": "python",
   "nbconvert_exporter": "python",
   "pygments_lexer": "ipython3",
   "version": "3.7.3"
  }
 },
 "nbformat": 4,
 "nbformat_minor": 5
}
