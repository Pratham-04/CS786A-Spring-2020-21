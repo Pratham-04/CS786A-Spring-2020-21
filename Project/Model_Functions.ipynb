{
  "nbformat": 4,
  "nbformat_minor": 0,
  "metadata": {
    "colab": {
      "name": "[CS786A]Model_Functions.ipynb",
      "provenance": [],
      "collapsed_sections": [],
      "authorship_tag": "ABX9TyOFkzkaQapI6/lO+Zt5GTwQ",
      "include_colab_link": true
    },
    "kernelspec": {
      "display_name": "Python 3",
      "name": "python3"
    },
    "language_info": {
      "name": "python"
    }
  },
  "cells": [
    {
      "cell_type": "markdown",
      "metadata": {
        "id": "view-in-github",
        "colab_type": "text"
      },
      "source": [
        "<a href=\"https://colab.research.google.com/github/Pratham-04/CS786A-Spring-2020-21/blob/main/Project/Model_Functions.ipynb\" target=\"_parent\"><img src=\"https://colab.research.google.com/assets/colab-badge.svg\" alt=\"Open In Colab\"/></a>"
      ]
    },
    {
      "cell_type": "markdown",
      "metadata": {
        "id": "ljSkXxi5IYDs"
      },
      "source": [
        "This is a replication of the paper, 'Uncertainty and Exploration in a Restless Bandit Setting', Maarten Speekenbrink & Emmanouil Konstantinidis (2015). For the purpose of the project, only the few best-performing models will be fitted on the data."
      ]
    },
    {
      "cell_type": "code",
      "metadata": {
        "colab": {
          "base_uri": "https://localhost:8080/"
        },
        "id": "TZMzmTk4afmx",
        "outputId": "90800df2-0fbb-4af1-d58f-6f87c9618143"
      },
      "source": [
        "!pip install constrNMPy"
      ],
      "execution_count": null,
      "outputs": [
        {
          "output_type": "stream",
          "text": [
            "Collecting constrNMPy\n",
            "  Downloading https://files.pythonhosted.org/packages/03/4b/29ef7e470462d76c9ac9acf7ae4de8b57c44a3b4fd2ab06128c075a87e4b/constrNMPy-0.1-py2.py3-none-any.whl\n",
            "Requirement already satisfied: scipy in /usr/local/lib/python3.7/dist-packages (from constrNMPy) (1.4.1)\n",
            "Requirement already satisfied: numpy in /usr/local/lib/python3.7/dist-packages (from constrNMPy) (1.19.5)\n",
            "Installing collected packages: constrNMPy\n",
            "Successfully installed constrNMPy-0.1\n"
          ],
          "name": "stdout"
        }
      ]
    },
    {
      "cell_type": "code",
      "metadata": {
        "id": "8-cU42gcIPzW"
      },
      "source": [
        "import numpy as np\n",
        "import pandas as pd\n",
        "import scipy.optimize as opt\n",
        "from scipy.stats.mvn import mvnun\n",
        "import matplotlib.pyplot as plt\n",
        "import constrNMPy as cNM\n",
        "pd.set_option(\"display.max_rows\", None, \"display.max_columns\", None)"
      ],
      "execution_count": null,
      "outputs": []
    },
    {
      "cell_type": "code",
      "metadata": {
        "id": "k_WG20Xfx5mr"
      },
      "source": [
        "def makeRew(trend, stable, clip, numTrials, s):\n",
        "    # generates the game and returns those where each bandit is the best at least once\n",
        "    np.random.seed(s)\n",
        "    \n",
        "    # initializations\n",
        "    mus = []\n",
        "    rews = []\n",
        "    mu = np.array([-60, -20, 20, 60])\n",
        "    np.random.shuffle(mu)\n",
        "    mus.append(mu)\n",
        "    sigma1 = 4\n",
        "    decay = 0.9836\n",
        "    \n",
        "    # trend\n",
        "    kappas = np.zeros(4)\n",
        "    if trend == 1:\n",
        "        kappas[mu > 0] = -0.5\n",
        "        kappas[mu < 0] = 0.5\n",
        "\n",
        "    # stable/variable            \n",
        "    sigma2 = 4        \n",
        "    rews.append(np.random.normal(mu, sigma2))           \n",
        "    for i in range(1, numTrials):\n",
        "        if stable == 0 and (50<=i<=99 or 150<=i<=199):\n",
        "            sigma2 = 16\n",
        "        else:\n",
        "            sigma2 = 4\n",
        "        mu = np.multiply(mu, decay)\n",
        "        mu = np.add(mu, kappas)\n",
        "        mu = np.random.normal(mu, sigma2)\n",
        "        if clip == 1:\n",
        "            mu = np.clip(mu, -100, 100)\n",
        "        mus.append(mu)\n",
        "        \n",
        "        rew = np.random.normal(mu, sigma1)\n",
        "        if clip == 1:\n",
        "            rew = np.clip(rew, -100, 100)\n",
        "        rews.append(rew)\n",
        "    np.random.seed(None)\n",
        "    maxs = np.argmax(rews, 1)\n",
        "    if ((0 in maxs) and (1 in maxs) and (2 in maxs) and (3 in maxs)):\n",
        "        return np.array(mus), np.array(rews)\n",
        "    else:\n",
        "        return None, None\n",
        "\n",
        "def util(r, lamb, alpha):\n",
        "    # print(r)\n",
        "    u = np.copy(r)\n",
        "    u[r >= 0] = u[r >= 0]**alpha\n",
        "    u[r < 0] = -lamb*((-u[r < 0])**alpha)\n",
        "    return u"
      ],
      "execution_count": null,
      "outputs": []
    },
    {
      "cell_type": "code",
      "metadata": {
        "id": "paAu6_WBlFGM"
      },
      "source": [
        "def kalman(x_mean, x_var, rew, choice, sigma_xi, sigma_eps, lamb, alpha):\n",
        "    k_gain = np.zeros(4)\n",
        "    k_gain[choice] = (x_var[choice] + sigma_xi**2)/(x_var[choice] + sigma_xi**2 + sigma_eps**2)\n",
        "    # print('rew = '  + str(rew) + ', lamb = ' + str(lamb) + ', alpha = ' + str(alpha))\n",
        "    x_mean1 = x_mean + np.multiply(k_gain, util(rew, lamb, alpha) - x_mean)\n",
        "    x_var1 = np.multiply(1 - k_gain, x_var + sigma_xi**2)\n",
        "    return x_mean1, x_var1\n",
        "\n",
        "def softmax(x, temp):\n",
        "    return np.exp(np.multiply(x,temp))/np.sum(np.exp(np.multiply(x,temp)))\n",
        "\n",
        "def kf_sm_neglik(param, rews, chosen_idx):\n",
        "    # takes the game, used policy and hypothesis for input,\n",
        "    # outputs the negative of log-likelihhod of the hypothesis\n",
        "    numTrials = rews.shape[0]\n",
        "    temp = param[0]\n",
        "    mu0 = param[1] \n",
        "    sigma0 = param[2]\n",
        "    sigma_eps = param[3]\n",
        "    sigma_xi = param[4]\n",
        "    lamb = param[5]\n",
        "    alpha = param[6]\n",
        "    m = mu0*np.ones((numTrials + 1, 4))\n",
        "    v = sigma0*np.ones((numTrials + 1, 4))\n",
        "    loglik = 0\n",
        "    for i in range(numTrials):\n",
        "        # print('Starts here, i = ' + str(i))\n",
        "        # print(param)\n",
        "        prob = softmax(m[i], temp)\n",
        "        # print(prob)\n",
        "        m[i+1], v[i+1] = kalman(m[i], v[i], rews[i], int(chosen_idx[i]), sigma_xi, sigma_eps, lamb, alpha)\n",
        "        loglik += np.log(prob[int(chosen_idx[i])])\n",
        "    # print(loglik)\n",
        "    return -loglik\n",
        "\n",
        "def play_kf_sm(rews, temp, mu0, sigma0, sigma_eps, sigma_xi, lamb, alpha):\n",
        "    # plays the game with the parameters that are given input\n",
        "    # uses Kalman Filter for learning and softmax for choice\n",
        "    numTrials = rews.shape[0]\n",
        "    chosen_idx = -1*np.ones(numTrials)\n",
        "    m = mu0*np.ones((numTrials + 1, 4))\n",
        "    v = sigma0*np.ones((numTrials + 1, 4))\n",
        "    for i in range(numTrials):\n",
        "        chosen_idx[i] = np.random.choice(np.array([0, 1, 2, 3]), 1, False, softmax(m[i], temp))\n",
        "        m[i+1], v[i+1] = kalman(m[i], v[i], rews[i], int(chosen_idx[i]), sigma_xi, sigma_eps, lamb, alpha)\n",
        "    return chosen_idx"
      ],
      "execution_count": null,
      "outputs": []
    },
    {
      "cell_type": "code",
      "metadata": {
        "id": "23R0OTHFzbDM"
      },
      "source": [
        "# Generate game\n",
        "# trend includes or excludes the constant drift in the rewards\n",
        "# stable sets the volatility to high or low\n",
        "# s is the seed for the rewards (selected previously)\n",
        "numTrials = 200\n",
        "trend = 0; stable = 1; clip = 0; s = 82\n",
        "mus, rews = makeRew(trend, stable, clip, numTrials, s)\n",
        "# fixing parameters\n",
        "temp = 0.2; mu0 = 0; sigma0 = 1000; sigma_eps = 4; sigma_xi = 4; lamb = 1.5; alpha = 0.6\n",
        "chosen_idx = play_kf_sm(rews, temp, mu0, sigma0, sigma_eps, sigma_xi, lamb, alpha)\n",
        "# aa = pd.DataFrame(rews)\n",
        "# aa['choice'] = chosen_idx\n",
        "# print(aa)"
      ],
      "execution_count": null,
      "outputs": []
    },
    {
      "cell_type": "code",
      "metadata": {
        "colab": {
          "base_uri": "https://localhost:8080/",
          "height": 296
        },
        "id": "3GzKJ4NNw2uU",
        "outputId": "e6bbce80-5af6-400c-bc99-f7410f24953e"
      },
      "source": [
        "# Parameter extimation using maximum likelihood estimator\n",
        "params_choice = np.linspace(0, 1, 51)\n",
        "fin = []\n",
        "for param_choice in np.nditer(params_choice):\n",
        "    param = [param_choice, 0, 1000, 4, 4, 2.1, 0.6]\n",
        "    fin.append(-1*kf_sm_neglik(param, rews, chosen_idx))\n",
        "plt.plot(params_choice, fin)\n",
        "plt.ylabel('Log-Likelihood')\n",
        "plt.xlabel('Temperature')\n",
        "plt.show()\n",
        "print('The maximum likelhood occurs at temp = ' + str(params_choice[fin.index(max(fin))]))"
      ],
      "execution_count": null,
      "outputs": [
        {
          "output_type": "display_data",
          "data": {
            "image/png": "[encoded data removed]",
            "text/plain": [
              "<Figure size 432x288 with 1 Axes>"
            ]
          },
          "metadata": {
            "tags": [],
            "needs_background": "light"
          }
        },
        {
          "output_type": "stream",
          "text": [
            "The maximum likelhood occurs at temp = 0.16\n"
          ],
          "name": "stdout"
        }
      ]
    },
    {
      "cell_type": "code",
      "metadata": {
        "colab": {
          "base_uri": "https://localhost:8080/"
        },
        "id": "Riu5acMMu8R_",
        "outputId": "a8ec27ae-26d9-4872-93ad-974a98d02910"
      },
      "source": [
        "# Parameter estimation using optimization - Bounded Nelder-Mead Simplex algorithm (as in the paper)\n",
        "# temp = 0.5; mu0 = 0; sigma0 = 1000, sigma_eps = 4; sigma_xi = 4; lamb = 2.1; alpha = 0.6\n",
        "LB = [0, 0, 0, 0, 0, 0, 0]\n",
        "UB = [1, 5000, 5000, 5000, 5000, 2, 2]\n",
        "param = np.array([0.5, 0.1, 1000, 4, 4, 1, 1])\n",
        "cNM.constrNM(kf_sm_neglik, param, LB, UB, args = (rews, chosen_idx,), full_output = True)"
      ],
      "execution_count": null,
      "outputs": [
        {
          "output_type": "execute_result",
          "data": {
            "text/plain": [
              "{'allvecs': None,\n",
              " 'fopt': 173.0024089656686,\n",
              " 'funcalls': 1006,\n",
              " 'iter': 653,\n",
              " 'warnflag': 0,\n",
              " 'xopt': array([3.01962734e-01, 7.92983116e-01, 3.88231266e+03, 3.78470004e+00,\n",
              "        3.53057858e+00, 5.11350061e-01, 5.63248168e-01])}"
            ]
          },
          "metadata": {
            "tags": []
          },
          "execution_count": 7
        }
      ]
    },
    {
      "cell_type": "markdown",
      "metadata": {
        "id": "BmPzI2VfbYiA"
      },
      "source": [
        "The optimum value of the temperature is at 0.166, which is close to the one obtained graphically.\n",
        "\n",
        "Since the actual value is 0.15, the model provides a good enough fit for the data. Statistical criteria to evaluate fit will be used in the final analysis.\n",
        "\n"
      ]
    },
    {
      "cell_type": "code",
      "metadata": {
        "id": "7jEuCHqMT4In"
      },
      "source": [
        "def dyn_softmax(x, temp0, i):\n",
        "    temp = ((i+1)/10)**temp0\n",
        "    # print(temp)\n",
        "    # print(np.exp(np.multiply(x,temp))/np.sum(np.exp(np.multiply(x,temp))))\n",
        "    # print(np.exp(np.multiply(x,temp))/np.sum(np.exp(np.multiply(x,temp))))\n",
        "    return np.exp(np.multiply(x,temp))/np.sum(np.exp(np.multiply(x,temp)))\n",
        "\n",
        "def delta(x, rew, choice, eta, lamb, alpha):\n",
        "    lr = np.zeros(4)\n",
        "    lr[choice] = eta\n",
        "    return x + np.multiply(lr, util(rew, lamb, alpha) - x)\n",
        "\n",
        "def del_dsm_neglik(param, rews, chosen_idx):\n",
        "    numTrials = rews.shape[0]\n",
        "    temp0 = param[0]\n",
        "    mu0 = param[1]\n",
        "    eta = param[2]\n",
        "    lamb = param[3]\n",
        "    alpha = param[4]\n",
        "    m = mu0*np.ones((numTrials + 1, 4))\n",
        "    loglik = 0\n",
        "    for i in range(numTrials):\n",
        "        # print(numTrials)\n",
        "        # print('At i = ' + str(i) + ', ' + str(m[i]))\n",
        "        prob = dyn_softmax(m[i], temp0, i)\n",
        "        m[i+1] = delta(m[i], rews[i], int(chosen_idx[i]), eta, lamb, alpha)\n",
        "        # print('temp = ' + str(temp0) + ', prob = ' + str(prob) + ', idx = ' + str(int(chosen_idx[i])))\n",
        "        # print('in lik = ' + str(prob[int(chosen_idx[i])]))\n",
        "        loglik += np.log(prob[int(chosen_idx[i])])\n",
        "        # print(loglik)\n",
        "    return -loglik\n",
        "\n",
        "def play_del_dsm(rews, temp0, mu0, eta, lamb, alpha):\n",
        "    numTrials = rews.shape[0]\n",
        "    m = mu0*np.ones((numTrials+1, 4))\n",
        "    chosen_idx = -1*np.ones(numTrials)\n",
        "    for i in range(numTrials):\n",
        "        chosen_idx[i] = np.random.choice(np.array([0, 1, 2, 3]), 1, False, dyn_softmax(m[i], temp0, i))\n",
        "        m[i+1] = delta(m[i], rews[i], int(chosen_idx[i]), eta, lamb, alpha)\n",
        "    return chosen_idx"
      ],
      "execution_count": null,
      "outputs": []
    },
    {
      "cell_type": "code",
      "metadata": {
        "id": "Zykzy0jjUCYi"
      },
      "source": [
        "numTrials = 200\n",
        "trend = 0; stable = 1; clip = 0; s = 82\n",
        "mus, rews = makeRew(trend, stable, clip, numTrials, s)\n",
        "temp0 = 0.9; mu0 = 0; eta = 0.8; lamb = 0.5; alpha = 0.4\n",
        "chosen_idx = play_del_dsm(rews, temp0, mu0, eta, lamb, alpha)"
      ],
      "execution_count": null,
      "outputs": []
    },
    {
      "cell_type": "code",
      "metadata": {
        "id": "fc4fI6gdXgjq",
        "colab": {
          "base_uri": "https://localhost:8080/",
          "height": 286
        },
        "outputId": "ae4a2f8f-cd10-4260-eeba-788ffe236af0"
      },
      "source": [
        "params_choice = np.linspace(0, 1, 101)\n",
        "fin = []\n",
        "for param_choice in np.nditer(params_choice):\n",
        "    param = [param_choice, 0, 0.8, 0.5, 0.4]\n",
        "    fin.append(-1*del_dsm_neglik(param, rews, chosen_idx))\n",
        "plt.plot(params_choice, fin)\n",
        "plt.show()\n",
        "print('The maximum likelhood occurs at temp = ' + str(params_choice[fin.index(max(fin))]))"
      ],
      "execution_count": null,
      "outputs": [
        {
          "output_type": "display_data",
          "data": {
            "image/png": "[encoded data removed]",
            "text/plain": [
              "<Figure size 432x288 with 1 Axes>"
            ]
          },
          "metadata": {
            "tags": [],
            "needs_background": "light"
          }
        },
        {
          "output_type": "stream",
          "text": [
            "The maximum likelhood occurs at temp = 0.81\n"
          ],
          "name": "stdout"
        }
      ]
    },
    {
      "cell_type": "code",
      "metadata": {
        "colab": {
          "base_uri": "https://localhost:8080/"
        },
        "id": "Za-2fOLzGXkC",
        "outputId": "25bd5bba-ddae-4487-c58c-511d5ad418c4"
      },
      "source": [
        "LB = [0.01, 0, 0, 0, 0]\n",
        "UB = [2, 5000, 1, 2, 2]\n",
        "param = np.array([0.1, 0.1, 0.5, 1, 1])\n",
        "cNM.constrNM(del_dsm_neglik, param, LB, UB, args = (rews, chosen_idx,), full_output = True)"
      ],
      "execution_count": null,
      "outputs": [
        {
          "output_type": "execute_result",
          "data": {
            "text/plain": [
              "{'allvecs': None,\n",
              " 'fopt': 14.642505030692385,\n",
              " 'funcalls': 263,\n",
              " 'iter': 154,\n",
              " 'warnflag': 0,\n",
              " 'xopt': array([0.32814366, 0.39225472, 0.78067085, 0.87268425, 0.68955355])}"
            ]
          },
          "metadata": {
            "tags": []
          },
          "execution_count": 11
        }
      ]
    },
    {
      "cell_type": "code",
      "metadata": {
        "id": "mUc4_HKATLgI"
      },
      "source": [
        "def softmax(x, temp):\n",
        "    return np.exp(np.multiply(x,temp))/np.sum(np.exp(np.multiply(x,temp)))\n",
        "\n",
        "def decay(x, rew, choice, eta_dec, lamb, alpha):\n",
        "    y = np.zeros(4)\n",
        "    y[choice] = 1\n",
        "    return eta_dec*x + np.multiply(y, util(rew, lamb, alpha))\n",
        "\n",
        "def dec_fsm_neglik(param, rews, chosen_idx):\n",
        "    temp = param[0]\n",
        "    mu0 = param[1]\n",
        "    eta_dec = param[2]\n",
        "    lamb = param[3]\n",
        "    alpha = param[4]\n",
        "    numTrials = rews.shape[0]\n",
        "    m = mu0*np.ones((numTrials+1, 4))\n",
        "    loglik = 0\n",
        "    for i in range(numTrials):\n",
        "        prob = softmax(m[i], temp)\n",
        "        m[i+1] = decay(m[i], rews[i], int(chosen_idx[i]), eta_dec, lamb, alpha)\n",
        "        loglik += np.log(prob[int(chosen_idx[i])])\n",
        "    return -loglik\n",
        "\n",
        "def play_dec_fsm(rews, temp, mu0, eta_dec, lamb, alpha):\n",
        "    numTrials = rews.shape[0]\n",
        "    m = mu0*np.ones((numTrials+1, 4))\n",
        "    chosen_idx = -1*np.ones(numTrials)\n",
        "    for i in range(numTrials):\n",
        "        # print(i, temp, mu0, eta_dec, lamb, alpha)\n",
        "        # print('rew = ' + str(rews[i]))\n",
        "        chosen_idx[i] = np.random.choice(np.array([0, 1, 2, 3]), 1, False, softmax(m[i], temp))\n",
        "        m[i+1] = decay(m[i], rews[i], int(chosen_idx[i]), eta_dec, lamb, alpha)\n",
        "    return chosen_idx"
      ],
      "execution_count": null,
      "outputs": []
    },
    {
      "cell_type": "code",
      "metadata": {
        "id": "gHXcvALafVUZ"
      },
      "source": [
        "numTrials = 200\n",
        "trend = 0; stable = 1; clip = 0; s = 82\n",
        "mus, rews = makeRew(trend, stable, clip, numTrials, s)\n",
        "temp = 0.6; mu0 = 0; eta_dec = 0.64; lamb = 2.06; alpha = 0.36\n",
        "chosen_idx = play_dec_fsm(rews, temp, mu0, eta_dec, lamb, alpha)"
      ],
      "execution_count": null,
      "outputs": []
    },
    {
      "cell_type": "code",
      "metadata": {
        "colab": {
          "base_uri": "https://localhost:8080/"
        },
        "id": "400ok73oq8c0",
        "outputId": "fb3b3640-eea8-4443-e573-9f68bc12e1c1"
      },
      "source": [
        "LB = [0.01, -1e-2, 0, 0, 0]\n",
        "UB = [1, 1e-2, 1, 3, 3]\n",
        "param = np.array([0.1, 0, 0.5, 1, 1])\n",
        "cNM.constrNM(dec_fsm_neglik, param, LB, UB, args = (rews, chosen_idx,), full_output = True)"
      ],
      "execution_count": null,
      "outputs": [
        {
          "output_type": "execute_result",
          "data": {
            "text/plain": [
              "{'allvecs': None,\n",
              " 'fopt': 54.85355991606772,\n",
              " 'funcalls': 276,\n",
              " 'iter': 166,\n",
              " 'warnflag': 0,\n",
              " 'xopt': array([5.90894810e-01, 1.12498169e-03, 6.57392070e-01, 1.53648641e+00,\n",
              "        3.66155236e-01])}"
            ]
          },
          "metadata": {
            "tags": []
          },
          "execution_count": 14
        }
      ]
    },
    {
      "cell_type": "code",
      "metadata": {
        "id": "aVjHZa9dxQ8T"
      },
      "source": [
        "def kalman(x_mean, x_var, rew, choice, sigma_xi, sigma_eps, lamb, alpha):\n",
        "    k_gain = np.zeros(4)\n",
        "    k_gain[choice] = (x_var[choice] + sigma_xi**2)/(x_var[choice] + sigma_xi**2 + sigma_eps**2)\n",
        "    x_mean1 = x_mean + np.multiply(k_gain, util(rew, lamb, alpha) - x_mean)\n",
        "    x_var1 = np.multiply(1 - k_gain, x_var + sigma_xi**2)\n",
        "    return x_mean1, x_var1\n",
        "\n",
        "def pmu(x_mean, x_var, sigma_eps):\n",
        "    prob = -1*np.ones(4)\n",
        "    for i in range(4):\n",
        "        A = -1*np.identity(3)\n",
        "        A = np.insert(A, i, np.array([1,1,1]), 1)\n",
        "        M = np.matmul(A, x_mean)\n",
        "        H = np.diag(x_var + sigma_eps**2)\n",
        "        H = np.matmul(np.matmul(A, H), np.transpose(A))\n",
        "        prob[i] = mvnun([0,0,0], [np.inf,np.inf,np.inf], M, H)[0]\n",
        "    # print('a')\n",
        "    # print(prob)\n",
        "    # print('prob = ' + str(prob/np.sum(prob)))\n",
        "    return prob/np.sum(prob)\n",
        "\n",
        "def kf_pmu_neglik(param, rews, chosen_idx):\n",
        "    numTrials = rews.shape[0]\n",
        "    mu0 = param[0]\n",
        "    sigma0 = param[1]\n",
        "    sigma_xi = param[2]\n",
        "    sigma_eps = param[3]\n",
        "    lamb = param[4]\n",
        "    alpha = param[5]\n",
        "    m = mu0*np.ones((numTrials + 1, 4))\n",
        "    v = sigma0*np.ones((numTrials + 1, 4))\n",
        "    loglik = 0\n",
        "    for i in range(numTrials):\n",
        "        prob = pmu(m[i], v[i], sigma_eps)\n",
        "        m[i+1], v[i+1] = kalman(m[i], v[i], rews[i], int(chosen_idx[i]), sigma_xi, sigma_eps, lamb, alpha)\n",
        "        loglik += np.log(prob[int(chosen_idx[i])])\n",
        "    return -loglik\n",
        "\n",
        "def play_kf_pmu(rews, mu0, sigma0, sigma_xi, sigma_eps, lamb, alpha):\n",
        "    numTrials = rews.shape[0]\n",
        "    chosen_idx = -1*np.ones(numTrials)\n",
        "    m = mu0*np.ones((numTrials + 1, 4))\n",
        "    v = sigma0*np.ones((numTrials + 1, 4))\n",
        "    for i in range(numTrials):\n",
        "        # print('i = ' + str(i) + ', m = ' + str(m[i]))\n",
        "        chosen_idx[i] = np.random.choice(np.array([0, 1, 2, 3]), 1, False, pmu(m[i], v[i], sigma_eps))\n",
        "        # print('choice = ' + str(chosen_idx[i]) + ', rew = ' + str(rews[i]))\n",
        "        m[i+1], v[i+1] = kalman(m[i], v[i], rews[i], int(chosen_idx[i]), sigma_xi, sigma_eps, lamb, alpha)\n",
        "    return chosen_idx"
      ],
      "execution_count": null,
      "outputs": []
    },
    {
      "cell_type": "code",
      "metadata": {
        "id": "0C_SWU8tZ6Av"
      },
      "source": [
        "numTrials = 200\n",
        "trend = 0; stable = 1; clip = 0; s = 82\n",
        "mus, rews = makeRew(trend, stable, clip, numTrials, s)\n",
        "mu0 = 0; sigma0 = 15; sigma_xi = 4; sigma_eps = 4; lamb = 0.9; alpha = 0.2\n",
        "chosen_idx = play_kf_pmu(rews, mu0, sigma0, sigma_xi, sigma_eps, lamb, alpha)"
      ],
      "execution_count": null,
      "outputs": []
    },
    {
      "cell_type": "code",
      "metadata": {
        "colab": {
          "base_uri": "https://localhost:8080/",
          "height": 282
        },
        "id": "RpviC3d3mo_M",
        "outputId": "7cbfb1d1-f750-428f-f57e-8c7b85a940b5"
      },
      "source": [
        "params_choice = np.linspace(0, 2, 51)\n",
        "fin = []\n",
        "for param_choice in np.nditer(params_choice):\n",
        "    param = [0, 15, 4, 4, param_choice, 0.2]\n",
        "    fin.append(-1*kf_pmu_neglik(param, rews, chosen_idx))\n",
        "plt.plot(params_choice, fin)\n",
        "plt.show()\n",
        "print('The maximum likelhood occurs at lamb = ' + str(params_choice[fin.index(max(fin))]))"
      ],
      "execution_count": null,
      "outputs": [
        {
          "output_type": "display_data",
          "data": {
            "image/png": "[encoded data removed]",
            "text/plain": [
              "<Figure size 432x288 with 1 Axes>"
            ]
          },
          "metadata": {
            "tags": [],
            "needs_background": "light"
          }
        },
        {
          "output_type": "stream",
          "text": [
            "The maximum likelhood occurs at lamb = 1.44\n"
          ],
          "name": "stdout"
        }
      ]
    },
    {
      "cell_type": "code",
      "metadata": {
        "colab": {
          "base_uri": "https://localhost:8080/"
        },
        "id": "QtdwlLzPbxap",
        "outputId": "58f15e5a-894c-4558-d206-b12f5986ec50"
      },
      "source": [
        "LB = [0, 0, 0, 0, 0, 0]\n",
        "UB = [10, 2000, 2000, 2000, 3, 3]\n",
        "param = np.array([0.1, 2, 0.5, 1, 1, 1])\n",
        "cNM.constrNM(kf_pmu_neglik, param, LB, UB, args = (rews, chosen_idx,), full_output = True)"
      ],
      "execution_count": null,
      "outputs": [
        {
          "output_type": "stream",
          "text": [
            "/usr/local/lib/python3.7/dist-packages/ipykernel_launcher.py:36: RuntimeWarning: divide by zero encountered in log\n"
          ],
          "name": "stderr"
        },
        {
          "output_type": "execute_result",
          "data": {
            "text/plain": [
              "{'allvecs': None,\n",
              " 'fopt': 266.2705167977605,\n",
              " 'funcalls': 1205,\n",
              " 'iter': 475,\n",
              " 'warnflag': 1,\n",
              " 'xopt': array([1.72038724e-03, 3.15066656e+01, 3.01166248e+00, 4.46004415e+00,\n",
              "        1.61410661e+00, 1.59799436e-01])}"
            ]
          },
          "metadata": {
            "tags": []
          },
          "execution_count": 37
        }
      ]
    },
    {
      "cell_type": "code",
      "metadata": {
        "id": "XjlWx9-8chPQ"
      },
      "source": [
        "def null_neglik(param, rews, chosen_idx):\n",
        "    numTrials = rews.shape[0]\n",
        "    p = param[0]\n",
        "    q = param[1]\n",
        "    r = param[2]\n",
        "    s = 1 - p - q - r\n",
        "    x = np.array([p, q, r, s])\n",
        "    loglik = 0\n",
        "    for i in range(numTrials):\n",
        "        # print(i)\n",
        "        # print(int(chosen_idx[i]))\n",
        "        # print(x[int(chosen_idx[i])])\n",
        "        # print(np.log(x[int(chosen_idx[i])]))\n",
        "        loglik += np.log(x[int(chosen_idx[i])])\n",
        "    return -loglik"
      ],
      "execution_count": null,
      "outputs": []
    },
    {
      "cell_type": "code",
      "metadata": {
        "id": "wnMofCNT67AO"
      },
      "source": [
        "numTrials = 200\n",
        "trend = 0; stable = 1; clip = 0; s = 82\n",
        "mus, rews = makeRew(trend, stable, clip, numTrials, s)\n",
        "temp = 0.2; mu0 = 0; sigma0 = 1000; sigma_eps = 4; sigma_xi = 4; lamb = 1.5; alpha = 0.6\n",
        "chosen_idx = play_kf_sm(rews, temp, mu0, sigma0, sigma_eps, sigma_xi, lamb, alpha)"
      ],
      "execution_count": null,
      "outputs": []
    },
    {
      "cell_type": "code",
      "metadata": {
        "colab": {
          "base_uri": "https://localhost:8080/"
        },
        "id": "vbwikeB46nBW",
        "outputId": "51e0e45a-3645-409f-b55f-0ef541186be8"
      },
      "source": [
        "LB = [0, 0, 0]\n",
        "UB = [1, 1, 1]\n",
        "param = np.array([0.1, 0.1, 0.1])\n",
        "cNM.constrNM(null_neglik, param, LB, UB, args = (rews, chosen_idx,), full_output = True)"
      ],
      "execution_count": null,
      "outputs": [
        {
          "output_type": "execute_result",
          "data": {
            "text/plain": [
              "{'allvecs': None,\n",
              " 'fopt': 263.1571606668192,\n",
              " 'funcalls': 100,\n",
              " 'iter': 53,\n",
              " 'warnflag': 0,\n",
              " 'xopt': array([0.24000391, 0.1100094 , 0.32000241])}"
            ]
          },
          "metadata": {
            "tags": []
          },
          "execution_count": 27
        }
      ]
    },
    {
      "cell_type": "code",
      "metadata": {
        "id": "YmalM5mn647x"
      },
      "source": [
        "def delta_aic(id, param_1, param_2, rews, chosen_idx):\n",
        "    num1 = param_1.size\n",
        "    num2 = param_2.size\n",
        "    lik2 = -null_neglik(param_2, rews, chosen_idx)\n",
        "    if id == 'kf_pmu':\n",
        "        lik1 = -kf_pmu_neglik(param_1, rews, chosen_idx)\n",
        "    elif id == 'dec_smf':\n",
        "        lik1 = -dec_fsm_neglik(param_1, rews, chosen_idx)\n",
        "    elif id == 'del_smd':\n",
        "        lik1 = -del_dsm_neglik(param_1, rews, chosen_idx)\n",
        "    aic1 = 2*(num1 - lik1)\n",
        "    aic2 = 2*(num2 - lik2)\n",
        "    return aic1, aic2, aic2 - aic1\n",
        "\n",
        "def delta_bic(id, param_1, param_2, rews, chosen_idx, samp):\n",
        "    num1 = param_1.size\n",
        "    num2 = param_2.size\n",
        "    lik2 = -null_neglik(param_2, rews, chosen_idx)\n",
        "    if id == 'kf_pmu':\n",
        "        lik1 = -kf_pmu_neglik(param_1, rews, chosen_idx)\n",
        "    elif id == 'dec_smf':\n",
        "        lik1 = -dec_fsm_neglik(param_1, rews, chosen_idx)\n",
        "    elif id == 'del_smd':\n",
        "        lik1 = -del_dsm_neglik(param_1, rews, chosen_idx)\n",
        "    bic1 = num1*np.log(samp) - 2*lik1\n",
        "    bic2 = num2*np.log(samp) - 2*lik2\n",
        "    return bic1, bic2, bic2 - bic1"
      ],
      "execution_count": null,
      "outputs": []
    },
    {
      "cell_type": "code",
      "metadata": {
        "id": "CWin2KVifnzq"
      },
      "source": [
        "numTrials = 200\n",
        "trend = 0; stable = 1; clip = 0; s = 82\n",
        "mus, rews = makeRew(trend, stable, clip, numTrials, s)\n",
        "temp = 0.2; mu0 = 0; sigma0 = 1000; sigma_eps = 4; sigma_xi = 4; lamb = 1.5; alpha = 0.6\n",
        "chosen_idx = play_kf_sm(rews, temp, mu0, sigma0, sigma_eps, sigma_xi, lamb, alpha)"
      ],
      "execution_count": null,
      "outputs": []
    },
    {
      "cell_type": "code",
      "metadata": {
        "colab": {
          "base_uri": "https://localhost:8080/"
        },
        "id": "Yy2GL2AKZVKR",
        "outputId": "d2601a15-dc1d-48c4-bc5b-601a695f4125"
      },
      "source": [
        "LB = [0, 0, 0]\n",
        "UB = [1, 1, 1]\n",
        "param = np.array([0.1, 0.1, 0.1])\n",
        "ans = cNM.constrNM(null_neglik, param, LB, UB, args = (rews, chosen_idx,), full_output = True)\n",
        "param_2 = ans['xopt']\n",
        "samp = 200\n",
        "\n",
        "LB = [0.01, 0, 0, 0, 0]\n",
        "UB = [2, 5000, 1, 2, 2]\n",
        "param = np.array([0.1, 0.1, 0.5, 1, 1])\n",
        "ans = cNM.constrNM(del_dsm_neglik, param, LB, UB, args = (rews, chosen_idx,), full_output = True)\n",
        "param_1 = ans['xopt']\n",
        "id = 'del_smd'\n",
        "print(id)\n",
        "print(delta_aic(id, param_1, param_2, rews, chosen_idx))\n",
        "print(delta_bic(id, param_1, param_2, rews, chosen_idx, samp))\n",
        "\n",
        "LB = [0.01, -1e-2, 0, 0, 0]\n",
        "UB = [1, 1e-2, 1, 3, 3]\n",
        "param = np.array([0.1, 0, 0.5, 1, 1])\n",
        "ans = cNM.constrNM(dec_fsm_neglik, param, LB, UB, args = (rews, chosen_idx,), full_output = True)\n",
        "param_1 = ans['xopt']\n",
        "id = 'dec_smf'\n",
        "print(id)\n",
        "print(delta_aic(id, param_1, param_2, rews, chosen_idx))\n",
        "print(delta_bic(id, param_1, param_2, rews, chosen_idx, samp))\n",
        "\n",
        "LB = [0, 0, 0, 0, 0, 0]\n",
        "UB = [10, 2000, 2000, 2000, 3, 3]\n",
        "param = np.array([0.1, 2, 0.5, 1, 1, 1])\n",
        "ans = cNM.constrNM(kf_pmu_neglik, param, LB, UB, args = (rews, chosen_idx,), full_output = True)\n",
        "param_1 = ans['xopt']\n",
        "id = 'kf_pmu'\n",
        "print(id)\n",
        "print(delta_aic(id, param_1, param_2, rews, chosen_idx))\n",
        "print(delta_bic(id, param_1, param_2, rews, chosen_idx, samp))\n",
        "\n"
      ],
      "execution_count": null,
      "outputs": [
        {
          "output_type": "stream",
          "text": [
            "del_smd\n",
            "(297.35808398031037, 529.257966872517, 231.89988289220668)\n",
            "(313.8496708130506, 539.1529189721612, 225.30324815911058)\n",
            "dec_smf\n",
            "(325.09433739399276, 529.257966872517, 204.16362947852429)\n",
            "(341.5859242267329, 539.1529189721612, 197.56699474542825)\n"
          ],
          "name": "stdout"
        },
        {
          "output_type": "stream",
          "text": [
            "/usr/local/lib/python3.7/dist-packages/ipykernel_launcher.py:36: RuntimeWarning: divide by zero encountered in log\n"
          ],
          "name": "stderr"
        },
        {
          "output_type": "stream",
          "text": [
            "kf_pmu\n",
            "(291.732457924843, 529.257966872517, 237.52550894767404)\n",
            "(311.52239563725294, 539.1529189721612, 227.63052333490822)\n"
          ],
          "name": "stdout"
        }
      ]
    },
    {
      "cell_type": "code",
      "metadata": {
        "id": "-gUHpIkccSOv",
        "colab": {
          "base_uri": "https://localhost:8080/"
        },
        "outputId": "f98e9dd4-5631-478d-db10-a219675c8280"
      },
      "source": [
        "import numpy as np\n",
        "x = np.array([1, 2, 3, 4])\n",
        "x = np.delete(x, x == -1, 0)\n",
        "print(x)"
      ],
      "execution_count": null,
      "outputs": [
        {
          "output_type": "stream",
          "text": [
            "[1 2 3 4]\n"
          ],
          "name": "stdout"
        }
      ]
    },
    {
      "cell_type": "code",
      "metadata": {
        "id": "pKu1p4xaecWV"
      },
      "source": [
        ""
      ],
      "execution_count": null,
      "outputs": []
    }
  ]
}