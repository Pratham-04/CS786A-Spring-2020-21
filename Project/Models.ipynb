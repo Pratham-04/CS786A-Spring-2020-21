{
  "nbformat": 4,
  "nbformat_minor": 0,
  "metadata": {
    "colab": {
      "name": "Models.ipynb",
      "provenance": [],
      "collapsed_sections": [],
      "authorship_tag": "ABX9TyOcsVCi6TLTXxebarZTUI9m",
      "include_colab_link": true
    },
    "kernelspec": {
      "name": "python3",
      "display_name": "Python 3"
    },
    "language_info": {
      "name": "python"
    }
  },
  "cells": [
    {
      "cell_type": "markdown",
      "metadata": {
        "id": "view-in-github",
        "colab_type": "text"
      },
      "source": [
        "<a href=\"https://colab.research.google.com/github/Pratham-04/CS786A-Spring-2020-21/blob/main/Project/Models.ipynb\" target=\"_parent\"><img src=\"https://colab.research.google.com/assets/colab-badge.svg\" alt=\"Open In Colab\"/></a>"
      ]
    },
    {
      "cell_type": "markdown",
      "metadata": {
        "id": "ljSkXxi5IYDs"
      },
      "source": [
        "This is a replication of the paper, 'Uncertainty and Exploration in a Restless Bandit Setting', Maarten Speekenbrink & Emmanouil Konstantinidis (2015). For the purpose of the project, only the few best-performing models will be fitted on the data."
      ]
    },
    {
      "cell_type": "code",
      "metadata": {
        "colab": {
          "base_uri": "https://localhost:8080/"
        },
        "id": "TZMzmTk4afmx",
        "outputId": "9382c42e-7738-4538-8253-1fe979373882"
      },
      "source": [
        "!pip install pykalman\n",
        "!pip install constrNMPy\n",
        "!pip install numpy ssb_optimize"
      ],
      "execution_count": 14,
      "outputs": [
        {
          "output_type": "stream",
          "text": [
            "Requirement already satisfied: pykalman in /usr/local/lib/python3.7/dist-packages (0.9.5)\n",
            "Requirement already satisfied: constrNMPy in /usr/local/lib/python3.7/dist-packages (0.1)\n",
            "Requirement already satisfied: scipy in /usr/local/lib/python3.7/dist-packages (from constrNMPy) (1.4.1)\n",
            "Requirement already satisfied: numpy in /usr/local/lib/python3.7/dist-packages (from constrNMPy) (1.19.5)\n",
            "Requirement already satisfied: numpy in /usr/local/lib/python3.7/dist-packages (1.19.5)\n",
            "Requirement already satisfied: ssb_optimize in /usr/local/lib/python3.7/dist-packages (0.1.3)\n"
          ],
          "name": "stdout"
        }
      ]
    },
    {
      "cell_type": "code",
      "metadata": {
        "id": "8-cU42gcIPzW"
      },
      "source": [
        "import numpy as np\n",
        "import pandas as pd\n",
        "import scipy.optimize as opt\n",
        "import matplotlib.pyplot as plt\n",
        "from pykalman import KalmanFilter\n",
        "import constrNMPy as cNM\n",
        "import ssb_optimize.optimizer as opt1\n",
        "pd.set_option(\"display.max_rows\", None, \"display.max_columns\", None)"
      ],
      "execution_count": 15,
      "outputs": []
    },
    {
      "cell_type": "code",
      "metadata": {
        "id": "paAu6_WBlFGM"
      },
      "source": [
        "def makeRew(trend, stable, clip, numTrials, s):\n",
        "    # generates the game and returns those where at least each bandit is the best at least once\n",
        "    np.random.seed(s)\n",
        "    \n",
        "    mus = []\n",
        "    rews = []\n",
        "    mu = np.array([-60, -20, 20, 60])\n",
        "    np.random.shuffle(mu)\n",
        "    mus.append(mu)\n",
        "    sigma1 = 4\n",
        "    decay = 0.9836\n",
        "    \n",
        "    kappas = np.zeros(4)\n",
        "    if trend == 1:\n",
        "        for i in range(len(mu)):\n",
        "            if mu[i] == -60:\n",
        "                kappas[i] = 0.5\n",
        "            elif mu[i] == -20:\n",
        "                kappas[i] = 0.5\n",
        "            elif mu[i] == 20:\n",
        "                kappas[i] = -0.5\n",
        "            else:\n",
        "                kappas[i] = -0.5\n",
        "                \n",
        "    sigma2 = 4        \n",
        "    rews.append(np.random.normal(mu, sigma2))           \n",
        "    for i in range(numTrials - 1):\n",
        "        if stable == 0 and (51<=i<=100 or 151<=i<=200):\n",
        "            sigma2 = 16\n",
        "        else:\n",
        "            sigma2 = 4\n",
        "        mu = np.multiply(mu, decay)\n",
        "        mu = np.add(mu, kappas)\n",
        "        mu = np.random.normal(mu, sigma2)\n",
        "        if clip == 1:\n",
        "            mu = np.clip(mu, -100, 100)\n",
        "        mus.append(mu)\n",
        "        \n",
        "        rew = np.random.normal(mu, sigma1)\n",
        "        if clip == 1:\n",
        "            rew = np.clip(rew, -100, 100)\n",
        "        rews.append(rew)\n",
        "    \n",
        "    maxs = np.argmax(rews, 1)\n",
        "    if ((0 in maxs) and (1 in maxs) and (2 in maxs) and (3 in maxs)):\n",
        "        return np.array(mus), np.array(rews)\n",
        "    else:\n",
        "        return None, None\n",
        "\n",
        "def kalman(rews, chosen_idx, mu0, sigma0, sigma_eps, sigma_xi):\n",
        "    # takes as input a game and the policy used, returns the posterior means and variances of the arms\n",
        "    # at each timestep\n",
        "    numTrials = rews.shape[0]\n",
        "    # print(numTrials)\n",
        "    m = mu0*np.ones((numTrials+1, 4))\n",
        "    v = sigma0*np.ones((numTrials+1, 4))\n",
        "    for i in range(1, numTrials + 1):\n",
        "        k_gain = np.zeros(4)\n",
        "        k_gain[int(chosen_idx[i-1])] = (v[i-1, int(chosen_idx[i-1])] + sigma_xi**2)/(v[i-1, int(chosen_idx[i-1])] + sigma_xi**2 + sigma_eps**2)\n",
        "        m[i] = m[i-1] + np.multiply(k_gain, rews[i-1] - m[i-1])\n",
        "        v[i] = np.multiply(1 - k_gain, v[i-1] + sigma_xi**2)\n",
        "    return m, v\n",
        "\n",
        "def softmax(x, temp):\n",
        "    # maps rewards to a (0,1) interval\n",
        "    return np.exp(np.multiply(x,temp))/np.sum(np.exp(np.multiply(x,temp)))\n",
        "\n",
        "def kf_sm_neglik(param, rews, chosen_idx):\n",
        "    # takes the game, used policy and hypothesis for input,\n",
        "    # outputs the negative of log-likelihhod of the hypothesis\n",
        "    numTrials = rews.shape[0]\n",
        "    temp = param[0]\n",
        "    mu0 = param[1] \n",
        "    sigma0 = param[2]\n",
        "    sigma_eps = param[3]\n",
        "    sigma_xi = param[4]\n",
        "    m, v = kalman(rews, chosen_idx, mu0, sigma0, sigma_eps, sigma_xi)\n",
        "    # x = pd.DataFrame(m, columns = [0,1,2,3])\n",
        "    # x['choice'] = np.insert(chosen_idx, 0, 20)\n",
        "    # print(x)\n",
        "    loglik = 0\n",
        "    for i in range(numTrials):\n",
        "        prob = softmax(m[i+1], temp)\n",
        "        # print(np.log(prob[int(chosen_idx[i])]))\n",
        "        loglik += np.log(prob[int(chosen_idx[i])])\n",
        "    # print(-loglik)\n",
        "    return -loglik\n",
        "\n",
        "def play_kf_sm(rews, temp, mu0, sigma0, sigma_eps, sigma_xi):\n",
        "    # plays the game with the parameters that are given input\n",
        "    # uses Kalman Filter for learning anf softmax for choice\n",
        "    numTrials = rews.shape[0]\n",
        "    chosen_idx = -1*np.ones(numTrials)\n",
        "    m = mu0*np.ones((numTrials + 1, 4))\n",
        "    v = sigma0*np.ones((numTrials+1, 4))\n",
        "    for i in range(1, numTrials + 1):\n",
        "        chosen_idx[i-1] = np.random.choice(np.array([0, 1, 2, 3]), 1, False, softmax(m[i-1], temp))\n",
        "        k_gain = np.zeros(4)\n",
        "        k_gain[int(chosen_idx[i-1])] = (v[i-1, int(chosen_idx[i-1])] + sigma_xi**2)/(v[i-1, int(chosen_idx[i-1])] + sigma_xi**2 + sigma_eps**2)\n",
        "        m[i] = m[i-1] + np.multiply(k_gain, rews[i-1] - m[i-1])\n",
        "        v[i] = np.multiply(1 - k_gain, v[i-1] + sigma_xi**2)\n",
        "    return chosen_idx\n",
        "\n"
      ],
      "execution_count": 16,
      "outputs": []
    },
    {
      "cell_type": "code",
      "metadata": {
        "id": "23R0OTHFzbDM"
      },
      "source": [
        "# Generate game\n",
        "# trend includes or excludes the constant drift in the rewards\n",
        "# stable sets the volatility to high or low\n",
        "# s is the seed for the rewards (selected previously)\n",
        "numTrials = 200\n",
        "trend = 0; stable = 1; clip = 0; s = 82\n",
        "mus, rews = makeRew(trend, stable, clip, numTrials, s)\n",
        "# fixing parameters\n",
        "temp = 0.15; mu0 = 0; sigma0 = 1000; sigma_eps = 4; sigma_xi = 4\n",
        "chosen_idx = play_kf_sm(rews, temp, mu0, sigma0, sigma_eps, sigma_xi)"
      ],
      "execution_count": 17,
      "outputs": []
    },
    {
      "cell_type": "code",
      "metadata": {
        "colab": {
          "base_uri": "https://localhost:8080/",
          "height": 296
        },
        "id": "3GzKJ4NNw2uU",
        "outputId": "83492aa8-e871-4deb-eeb9-108f6ed88ebe"
      },
      "source": [
        "# Parameter extimation using maximum likelihood estimator\n",
        "params_choice = np.linspace(0, 1, 51)\n",
        "fin = []\n",
        "for param_choice in np.nditer(params_choice):\n",
        "    param = [param_choice, 0, 1000, 4, 4]\n",
        "    fin.append(-1*kf_sm_neglik(param, rews, chosen_idx))\n",
        "plt.plot(params_choice, fin)\n",
        "plt.ylabel('Log-Likelihood')\n",
        "plt.xlabel('Temperature')\n",
        "plt.show()\n",
        "print('The maximum likelhood occurs at temp = ' + str(params_choice[fin.index(max(fin))]))"
      ],
      "execution_count": 25,
      "outputs": [
        {
          "output_type": "display_data",
          "data": {
            "image/png": "[encoded data removed]",
            "text/plain": [
              "<Figure size 432x288 with 1 Axes>"
            ]
          },
          "metadata": {
            "tags": [],
            "needs_background": "light"
          }
        },
        {
          "output_type": "stream",
          "text": [
            "The maximum likelhood occurs at temp = 0.16\n"
          ],
          "name": "stdout"
        }
      ]
    },
    {
      "cell_type": "code",
      "metadata": {
        "colab": {
          "base_uri": "https://localhost:8080/"
        },
        "id": "Riu5acMMu8R_",
        "outputId": "bc740632-974c-4c77-8bc3-c2a0a06877ca"
      },
      "source": [
        "# Parameter estimation using optimization - Bounded Nelder-Mead Simplex algorithm (as in the paper)\n",
        "# temp = 0.5; mu0 = 0; sigma0 = 1000, sigma_eps = 4; sigma_xi = 4\n",
        "LB = [0, 0, 0, 0, 0]\n",
        "UB = [1, 5000, 5000, 5000, 5000]\n",
        "param = np.array([0.5, 0.1, 1000, 4, 4])\n",
        "cNM.constrNM(kf_sm_neglik, param, LB, UB, args = (rews, chosen_idx,), full_output = True)"
      ],
      "execution_count": 26,
      "outputs": [
        {
          "output_type": "execute_result",
          "data": {
            "text/plain": [
              "{'allvecs': None,\n",
              " 'fopt': 83.0734670415075,\n",
              " 'funcalls': 341,\n",
              " 'iter': 205,\n",
              " 'warnflag': 0,\n",
              " 'xopt': array([1.66526274e-01, 1.96215266e-08, 1.58340906e+03, 2.43793679e+01,\n",
              "        9.63169025e+00])}"
            ]
          },
          "metadata": {
            "tags": []
          },
          "execution_count": 26
        }
      ]
    },
    {
      "cell_type": "markdown",
      "metadata": {
        "id": "BmPzI2VfbYiA"
      },
      "source": [
        "The optimum value of the temperature is at 0.166, which is close to the one obtained graphically.\n",
        "\n",
        "Since the actual value is 0.15, the model provides a good enough fit for the data. Statistical criteria to evaluate fit will be used in the final analysis.\n",
        "\n"
      ]
    },
    {
      "cell_type": "code",
      "metadata": {
        "id": "7jEuCHqMT4In"
      },
      "source": [
        "# # temp = 0.5; mu0 = 0; sigma0 = 1000, sigma_eps = 4; sigma_xi = 4\n",
        "# bnds = [(0, 1), (0, 5000), (0, 5000), (0, 5000), (0, 5000)]\n",
        "# bnds = opt1.bounds_check(len(bnds), bnds)\n",
        "# param = [0.5, 0.1, 1000, 4, 4]\n",
        "# minim = opt1.nelder_mead(param, kf_sm_neglik, bounds = bnds, args = (rews, chosen_idx,))\n",
        "# print(minim)"
      ],
      "execution_count": 27,
      "outputs": []
    },
    {
      "cell_type": "code",
      "metadata": {
        "id": "DqupHkYVbxTd"
      },
      "source": [
        ""
      ],
      "execution_count": null,
      "outputs": []
    }
  ]
}