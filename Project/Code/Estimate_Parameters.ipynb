{
  "nbformat": 4,
  "nbformat_minor": 0,
  "metadata": {
    "colab": {
      "name": "[CS786A]Estimate_Parameters.ipynb",
      "provenance": [],
      "collapsed_sections": [],
      "authorship_tag": "ABX9TyMEKj443NUy9tRxkOK2XrQJ",
      "include_colab_link": true
    },
    "kernelspec": {
      "name": "python3",
      "display_name": "Python 3"
    },
    "language_info": {
      "name": "python"
    }
  },
  "cells": [
    {
      "cell_type": "markdown",
      "metadata": {
        "id": "view-in-github",
        "colab_type": "text"
      },
      "source": [
        "<a href=\"https://colab.research.google.com/github/Pratham-04/CS786A-Spring-2020-21/blob/main/Project/Code/Estimate_Parameters.ipynb\" target=\"_parent\"><img src=\"https://colab.research.google.com/assets/colab-badge.svg\" alt=\"Open In Colab\"/></a>"
      ]
    },
    {
      "cell_type": "code",
      "metadata": {
        "colab": {
          "base_uri": "https://localhost:8080/"
        },
        "id": "bBYXLsPe-4wO",
        "outputId": "16edf914-ef33-49e8-fcbb-dce686c647ae"
      },
      "source": [
        "!pip install pykalman\n",
        "!pip install constrNMPy"
      ],
      "execution_count": null,
      "outputs": [
        {
          "output_type": "stream",
          "text": [
            "Collecting pykalman\n",
            "\u001b[?25l  Downloading https://files.pythonhosted.org/packages/2f/62/a4adc4516bd5974aa5583090199dd4b78d1e87018d14e9279f72ccbf0b9b/pykalman-0.9.5.tar.gz (228kB)\n",
            "\r\u001b[K     |█▍                              | 10kB 11.5MB/s eta 0:00:01\r\u001b[K     |██▉                             | 20kB 16.6MB/s eta 0:00:01\r\u001b[K     |████▎                           | 30kB 11.4MB/s eta 0:00:01\r\u001b[K     |█████▊                          | 40kB 8.9MB/s eta 0:00:01\r\u001b[K     |███████▏                        | 51kB 5.6MB/s eta 0:00:01\r\u001b[K     |████████▋                       | 61kB 6.4MB/s eta 0:00:01\r\u001b[K     |██████████                      | 71kB 6.1MB/s eta 0:00:01\r\u001b[K     |███████████▌                    | 81kB 6.5MB/s eta 0:00:01\r\u001b[K     |████████████▉                   | 92kB 6.3MB/s eta 0:00:01\r\u001b[K     |██████████████▎                 | 102kB 5.3MB/s eta 0:00:01\r\u001b[K     |███████████████▊                | 112kB 5.3MB/s eta 0:00:01\r\u001b[K     |█████████████████▏              | 122kB 5.3MB/s eta 0:00:01\r\u001b[K     |██████████████████▋             | 133kB 5.3MB/s eta 0:00:01\r\u001b[K     |████████████████████            | 143kB 5.3MB/s eta 0:00:01\r\u001b[K     |█████████████████████▌          | 153kB 5.3MB/s eta 0:00:01\r\u001b[K     |███████████████████████         | 163kB 5.3MB/s eta 0:00:01\r\u001b[K     |████████████████████████▍       | 174kB 5.3MB/s eta 0:00:01\r\u001b[K     |█████████████████████████▊      | 184kB 5.3MB/s eta 0:00:01\r\u001b[K     |███████████████████████████▏    | 194kB 5.3MB/s eta 0:00:01\r\u001b[K     |████████████████████████████▋   | 204kB 5.3MB/s eta 0:00:01\r\u001b[K     |██████████████████████████████  | 215kB 5.3MB/s eta 0:00:01\r\u001b[K     |███████████████████████████████▌| 225kB 5.3MB/s eta 0:00:01\r\u001b[K     |████████████████████████████████| 235kB 5.3MB/s \n",
            "\u001b[?25hBuilding wheels for collected packages: pykalman\n",
            "  Building wheel for pykalman (setup.py) ... \u001b[?25l\u001b[?25hdone\n",
            "  Created wheel for pykalman: filename=pykalman-0.9.5-cp37-none-any.whl size=48464 sha256=026f602f7b742a33c25617374be00ba0934fdb92a23674a0f2a5b094d8d6aa6e\n",
            "  Stored in directory: /root/.cache/pip/wheels/d9/e8/6a/553d9832679cb74a8434fa597c3abdb07313e40054a0adf9ac\n",
            "Successfully built pykalman\n",
            "Installing collected packages: pykalman\n",
            "Successfully installed pykalman-0.9.5\n",
            "Collecting constrNMPy\n",
            "  Downloading https://files.pythonhosted.org/packages/03/4b/29ef7e470462d76c9ac9acf7ae4de8b57c44a3b4fd2ab06128c075a87e4b/constrNMPy-0.1-py2.py3-none-any.whl\n",
            "Requirement already satisfied: scipy in /usr/local/lib/python3.7/dist-packages (from constrNMPy) (1.4.1)\n",
            "Requirement already satisfied: numpy in /usr/local/lib/python3.7/dist-packages (from constrNMPy) (1.19.5)\n",
            "Installing collected packages: constrNMPy\n",
            "Successfully installed constrNMPy-0.1\n"
          ],
          "name": "stdout"
        }
      ]
    },
    {
      "cell_type": "code",
      "metadata": {
        "id": "9KoolLkg_Ko4"
      },
      "source": [
        "import numpy as np\n",
        "import pandas as pd\n",
        "import io\n",
        "import scipy.optimize as opt\n",
        "from scipy.stats.mvn import mvnun\n",
        "import matplotlib.pyplot as plt\n",
        "from pykalman import KalmanFilter\n",
        "import constrNMPy as cNM\n",
        "import json\n",
        "import pickle\n",
        "pd.set_option(\"display.max_rows\", None, \"display.max_columns\", None)"
      ],
      "execution_count": null,
      "outputs": []
    },
    {
      "cell_type": "code",
      "metadata": {
        "id": "k0-j6CBBLg8Y"
      },
      "source": [
        "from google.colab import files"
      ],
      "execution_count": null,
      "outputs": []
    },
    {
      "cell_type": "code",
      "metadata": {
        "id": "9uuMlwa_GgI5"
      },
      "source": [
        "def makeRew(trend, stable, clip, numTrials, s):\n",
        "    # generates the game and returns those where each bandit is the best at least once\n",
        "    np.random.seed(s)\n",
        "    \n",
        "    # initializations\n",
        "    mus = []\n",
        "    rews = []\n",
        "    mu = np.array([-60, -20, 20, 60])\n",
        "    np.random.shuffle(mu)\n",
        "    mus.append(mu)\n",
        "    sigma1 = 4\n",
        "    decay = 0.9836\n",
        "    \n",
        "    # trend\n",
        "    kappas = np.zeros(4)\n",
        "    if trend == 1:\n",
        "        kappas[mu > 0] = -0.5\n",
        "        kappas[mu < 0] = 0.5\n",
        "\n",
        "    # stable/variable            \n",
        "    sigma2 = 4        \n",
        "    rews.append(np.random.normal(mu, sigma2))           \n",
        "    for i in range(numTrials - 1):\n",
        "        if stable == 0 and (51<=i<=100 or 151<=i<=200):\n",
        "            sigma2 = 16\n",
        "        else:\n",
        "            sigma2 = 4\n",
        "        mu = np.multiply(mu, decay)\n",
        "        mu = np.add(mu, kappas)\n",
        "        mu = np.random.normal(mu, sigma2)\n",
        "        if clip == 1:\n",
        "            mu = np.clip(mu, -100, 100)\n",
        "        mus.append(mu)\n",
        "        \n",
        "        rew = np.random.normal(mu, sigma1)\n",
        "        if clip == 1:\n",
        "            rew = np.clip(rew, -100, 100)\n",
        "        rews.append(rew)\n",
        "    np.random.seed(None)\n",
        "    maxs = np.argmax(rews, 1)\n",
        "    if ((0 in maxs) and (1 in maxs) and (2 in maxs) and (3 in maxs)):\n",
        "        return np.array(mus), np.array(rews)\n",
        "    else:\n",
        "        return None, None"
      ],
      "execution_count": null,
      "outputs": []
    },
    {
      "cell_type": "code",
      "metadata": {
        "id": "eJU9vgu3nz5J"
      },
      "source": [
        "# utility from prospect theory\n",
        "\n",
        "def util(r, lamb, alpha):\n",
        "    # print(r)\n",
        "    u = np.copy(r)\n",
        "    u[r >= 0] = u[r >= 0]**alpha\n",
        "    u[r < 0] = -lamb*((-u[r < 0])**alpha)\n",
        "    return u"
      ],
      "execution_count": null,
      "outputs": []
    },
    {
      "cell_type": "code",
      "metadata": {
        "id": "pZxCn3fAllHe"
      },
      "source": [
        "# choice rules\n",
        "\n",
        "def dyn_softmax(x, temp0, i):\n",
        "    temp = ((i+1)/10)**temp0\n",
        "    return np.exp(np.multiply(x,temp))/np.sum(np.exp(np.multiply(x,temp)))\n",
        "\n",
        "def softmax(x, temp):\n",
        "    return np.exp(np.multiply(x,temp))/np.sum(np.exp(np.multiply(x,temp)))\n",
        "\n",
        "def pmu(x_mean, x_var, sigma_eps):\n",
        "    prob = -1*np.ones(4)\n",
        "    for i in range(4):\n",
        "        A = -1*np.identity(3)\n",
        "        A = np.insert(A, i, np.array([1,1,1]), 1)\n",
        "        M = np.matmul(A, x_mean)\n",
        "        H = np.diag(x_var + sigma_eps**2)\n",
        "        H = np.matmul(np.matmul(A, H), np.transpose(A))\n",
        "        prob[i] = mvnun([0,0,0], [np.inf,np.inf,np.inf], M, H)[0]\n",
        "    return prob/np.sum(prob)"
      ],
      "execution_count": null,
      "outputs": []
    },
    {
      "cell_type": "code",
      "metadata": {
        "id": "2b81Tztal2O1"
      },
      "source": [
        "# learning rules\n",
        "\n",
        "def delta(x, rew, choice, eta, lamb, alpha):\n",
        "    lr = np.zeros(4)\n",
        "    lr[choice] = eta\n",
        "    return x + np.multiply(lr, util(rew, lamb, alpha) - x)\n",
        "\n",
        "def decay(x, rew, choice, eta_dec, lamb, alpha):\n",
        "    y = np.zeros(4)\n",
        "    y[choice] = 1\n",
        "    return eta_dec*x + np.multiply(y, util(rew, lamb, alpha))\n",
        "\n",
        "def kalman(x_mean, x_var, rew, choice, sigma_xi, sigma_eps, lamb, alpha):\n",
        "    k_gain = np.zeros(4)\n",
        "    k_gain[choice] = (x_var[choice] + sigma_xi**2)/(x_var[choice] + sigma_xi**2 + sigma_eps**2)\n",
        "    x_mean1 = x_mean + np.multiply(k_gain, util(rew, lamb, alpha) - x_mean)\n",
        "    x_var1 = np.multiply(1 - k_gain, x_var + sigma_xi**2)\n",
        "    return x_mean1, x_var1"
      ],
      "execution_count": null,
      "outputs": []
    },
    {
      "cell_type": "code",
      "metadata": {
        "id": "Wz3koAQmmG9_"
      },
      "source": [
        "# likelihood estimators\n",
        "\n",
        "def del_dsm_neglik(param, rews, chosen_idx):\n",
        "    numTrials = rews.shape[0]\n",
        "    temp0 = param[0]\n",
        "    mu0 = param[1]\n",
        "    eta = param[2]\n",
        "    lamb = param[3]\n",
        "    alpha = param[4]\n",
        "    m = mu0*np.ones((numTrials + 1, 4))\n",
        "    loglik = 0\n",
        "    for i in range(numTrials):\n",
        "        prob = dyn_softmax(m[i], temp0, i)\n",
        "        m[i+1] = delta(m[i], rews[i], int(chosen_idx[i]), eta, lamb, alpha)\n",
        "        loglik += np.log(prob[int(chosen_idx[i])])\n",
        "    return -loglik\n",
        "\n",
        "def dec_fsm_neglik(param, rews, chosen_idx):\n",
        "    temp = param[0]\n",
        "    mu0 = param[1]\n",
        "    eta_dec = param[2]\n",
        "    lamb = param[3]\n",
        "    alpha = param[4]\n",
        "    numTrials = rews.shape[0]\n",
        "    m = mu0*np.ones((numTrials+1, 4))\n",
        "    loglik = 0\n",
        "    for i in range(numTrials):\n",
        "        prob = softmax(m[i], temp)\n",
        "        m[i+1] = decay(m[i], rews[i], int(chosen_idx[i]), eta_dec, lamb, alpha)\n",
        "        loglik += np.log(prob[int(chosen_idx[i])])\n",
        "    return -loglik\n",
        "\n",
        "def kf_pmu_neglik(param, rews, chosen_idx):\n",
        "    numTrials = rews.shape[0]\n",
        "    mu0 = param[0]\n",
        "    sigma0 = param[1]\n",
        "    sigma_xi = param[2]\n",
        "    sigma_eps = param[3]\n",
        "    lamb = param[4]\n",
        "    alpha = param[5]\n",
        "    m = mu0*np.ones((numTrials + 1, 4))\n",
        "    v = sigma0*np.ones((numTrials + 1, 4))\n",
        "    loglik = 0\n",
        "    for i in range(numTrials):\n",
        "        prob = pmu(m[i], v[i], sigma_eps)\n",
        "        m[i+1], v[i+1] = kalman(m[i], v[i], rews[i], int(chosen_idx[i]), sigma_xi, sigma_eps, lamb, alpha)\n",
        "        loglik += np.log(prob[int(chosen_idx[i])])\n",
        "    return -loglik\n",
        "\n",
        "def null_neglik(param, rews, chosen_idx):\n",
        "    numTrials = rews.shape[0]\n",
        "    p = param[0]\n",
        "    q = param[1]\n",
        "    r = param[2]\n",
        "    s = 1 - p - q - r\n",
        "    x = np.array([p, q, r, s])\n",
        "    loglik = 0\n",
        "    for i in range(numTrials):\n",
        "        loglik += np.log(x[int(chosen_idx[i])])\n",
        "    return -loglik"
      ],
      "execution_count": null,
      "outputs": []
    },
    {
      "cell_type": "code",
      "metadata": {
        "id": "Uu7IChZYmrqz"
      },
      "source": [
        "# fitting scores\n",
        "\n",
        "def delta_aic(id, param_1, param_2, rews, chosen_idx):\n",
        "    num1 = param_1.size\n",
        "    num2 = param_2.size\n",
        "    lik2 = -null_neglik(param_2, rews, chosen_idx)\n",
        "    if id == 'kf_pmu':\n",
        "        lik1 = -kf_pmu_neglik(param_1, rews, chosen_idx)\n",
        "    elif id == 'dec_smf':\n",
        "        lik1 = -dec_fsm_neglik(param_1, rews, chosen_idx)\n",
        "    elif id == 'del_smd':\n",
        "        lik1 = -del_dsm_neglik(param_1, rews, chosen_idx)\n",
        "    aic1 = 2*(num1 - lik1)\n",
        "    aic2 = 2*(num2 - lik2)\n",
        "    return aic1, aic2, aic2 - aic1\n",
        "\n",
        "def delta_bic(id, param_1, param_2, rews, chosen_idx, samp):\n",
        "    num1 = param_1.size\n",
        "    num2 = param_2.size\n",
        "    lik2 = -null_neglik(param_2, rews, chosen_idx)\n",
        "    if id == 'kf_pmu':\n",
        "        lik1 = -kf_pmu_neglik(param_1, rews, chosen_idx)\n",
        "    elif id == 'dec_smf':\n",
        "        lik1 = -dec_fsm_neglik(param_1, rews, chosen_idx)\n",
        "    elif id == 'del_smd':\n",
        "        lik1 = -del_dsm_neglik(param_1, rews, chosen_idx)\n",
        "    bic1 = num1*np.log(samp) - 2*lik1\n",
        "    bic2 = num2*np.log(samp) - 2*lik2\n",
        "    return bic1, bic2, bic2 - bic1"
      ],
      "execution_count": null,
      "outputs": []
    },
    {
      "cell_type": "code",
      "metadata": {
        "id": "YPfSPEuWHvdP"
      },
      "source": [
        "# trend, stable\n",
        "numTrials = 200\n",
        "m000, r000 = makeRew(0, 0, 0, numTrials, 207)\n",
        "m001, r001 = makeRew(0, 0, 0, numTrials, 368)\n",
        "m010, r010 = makeRew(0, 1, 0, numTrials, 82)\n",
        "m011, r011 = makeRew(0, 1, 0, numTrials, 411)\n",
        "m100, r100 = makeRew(1, 0, 0, numTrials, 49)\n",
        "m101, r101 = makeRew(1, 0, 0, numTrials, 67)\n",
        "m110, r110 = makeRew(1, 1, 0, numTrials, 75)\n",
        "m111, r111 = makeRew(1, 1, 0, numTrials, 287)"
      ],
      "execution_count": null,
      "outputs": []
    },
    {
      "cell_type": "code",
      "metadata": {
        "colab": {
          "base_uri": "https://localhost:8080/",
          "height": 600
        },
        "id": "NZ2gdHcrSZhZ",
        "outputId": "ab866ef5-f960-44ef-d047-5725b27aead7"
      },
      "source": [
        "fig , axs = plt.subplots(ncols = 2, nrows = 2, figsize = (12,8))\n",
        "\n",
        "axs[0, 0].plot(r010)\n",
        "axs[0, 0].set_ylim(-200, 200)\n",
        "axs[0, 1].plot(r110)\n",
        "axs[0, 1].set_ylim(-200, 200)\n",
        "axs[1, 0].plot(r000)\n",
        "axs[1, 0].set_ylim(-200, 200)\n",
        "axs[1, 1].plot(r101)\n",
        "axs[1, 1].set_ylim(-200, 200)\n",
        "axs[0, 0].set_title('SN')\n",
        "axs[0, 1].set_title('ST')\n",
        "axs[1, 0].set_title('VN')\n",
        "axs[1, 1].set_title('VT')\n",
        "fig.legend(labels = ['Arm 1', 'Arm 2', 'Arm 3', 'Arm 4'])\n",
        "\n",
        "fig.text(0.5, 0.04, 'Trials', ha = 'center', fontsize = 14)\n",
        "fig.text(0.04, 0.5, 'Reward', va='center', rotation='vertical', fontsize = 14)"
      ],
      "execution_count": null,
      "outputs": [
        {
          "output_type": "execute_result",
          "data": {
            "text/plain": [
              "Text(0.04, 0.5, 'Reward')"
            ]
          },
          "metadata": {
            "tags": []
          },
          "execution_count": 6
        },
        {
          "output_type": "display_data",
          "data": {
            "image/png": "[encoded data removed]",
            "text/plain": [
              "<Figure size 864x576 with 4 Axes>"
            ]
          },
          "metadata": {
            "tags": [],
            "needs_background": "light"
          }
        }
      ]
    },
    {
      "cell_type": "code",
      "metadata": {
        "id": "ijvjbTnf_Qm4",
        "colab": {
          "resources": {
            "http://localhost:8080/nbextensions/google.colab/files.js": {
              "data": "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",
              "ok": true,
              "headers": [
                [
                  "content-type",
                  "application/javascript"
                ]
              ],
              "status": 200,
              "status_text": ""
            }
          },
          "base_uri": "https://localhost:8080/",
          "height": 1000
        },
        "outputId": "b67a115b-3aaa-4201-dc3c-c4ce45e2ab5b"
      },
      "source": [
        "uploaded = files.upload()"
      ],
      "execution_count": null,
      "outputs": [
        {
          "output_type": "display_data",
          "data": {
            "text/html": [
              "\n",
              "     <input type=\"file\" id=\"files-698e6670-bd76-4a10-b1a6-db5dec7373bb\" name=\"files[]\" multiple disabled\n",
              "        style=\"border:none\" />\n",
              "     <output id=\"result-698e6670-bd76-4a10-b1a6-db5dec7373bb\">\n",
              "      Upload widget is only available when the cell has been executed in the\n",
              "      current browser session. Please rerun this cell to enable.\n",
              "      </output>\n",
              "      <script src=\"/nbextensions/google.colab/files.js\"></script> "
            ],
            "text/plain": [
              "<IPython.core.display.HTML object>"
            ]
          },
          "metadata": {
            "tags": []
          }
        },
        {
          "output_type": "stream",
          "text": [
            "Saving 32.csv to 32.csv\n",
            "Saving 41.csv to 41.csv\n",
            "Saving 51.csv to 51.csv\n",
            "Saving 52.csv to 52.csv\n",
            "Saving 57.csv to 57.csv\n",
            "Saving 63.csv to 63.csv\n",
            "Saving 73.csv to 73.csv\n",
            "Saving 76.csv to 76.csv\n",
            "Saving 81.csv to 81.csv\n",
            "Saving 85.csv to 85.csv\n",
            "Saving 86.csv to 86.csv\n",
            "Saving 90.csv to 90.csv\n",
            "Saving 91.csv to 91.csv\n",
            "Saving 98.csv to 98.csv\n",
            "Saving 99.csv to 99.csv\n",
            "Saving 125.csv to 125.csv\n",
            "Saving 139.csv to 139.csv\n",
            "Saving 140.csv to 140.csv\n",
            "Saving 143.csv to 143.csv\n",
            "Saving 148.csv to 148.csv\n",
            "Saving 149.csv to 149.csv\n",
            "Saving 150.csv to 150.csv\n",
            "Saving 152.csv to 152.csv\n",
            "Saving 156.csv to 156.csv\n",
            "Saving 159.csv to 159.csv\n",
            "Saving 161.csv to 161.csv\n",
            "Saving 163.csv to 163.csv\n",
            "Saving 169.csv to 169.csv\n",
            "Saving 170.csv to 170.csv\n",
            "Saving 178.csv to 178.csv\n"
          ],
          "name": "stdout"
        }
      ]
    },
    {
      "cell_type": "code",
      "metadata": {
        "id": "kS9QNeqfAnzX",
        "colab": {
          "base_uri": "https://localhost:8080/"
        },
        "outputId": "d2db2551-12e4-46a8-fbb6-5072b3ad3440"
      },
      "source": [
        "params_null = []\n",
        "params_del_smd = []\n",
        "params_dec_smf = []\n",
        "params_kf_pmu = []\n",
        "\n",
        "num_sheet = []\n",
        "\n",
        "del_aics1 = []\n",
        "del_bics1 = []\n",
        "del_aics2 = []\n",
        "del_bics2 = []\n",
        "del_aics3 = []\n",
        "del_bics3 = []\n",
        "\n",
        "numTrials = 200\n",
        "\n",
        "for i in range(200):\n",
        "    if (str(i) + '.csv') in uploaded:\n",
        "        df = pd.read_csv(io.BytesIO(uploaded[str(i) + '.csv']))\n",
        "        if df.shape[0] > 575:\n",
        "            num_sheet.append(i)\n",
        "            print(i)\n",
        "            \n",
        "            trend = df['trend'][1]\n",
        "            stable = df['stable'][1]\n",
        "            num = df['num'][1]\n",
        "            resp_map = eval(df['resp_map'][1])\n",
        "\n",
        "            pinfo = json.loads(df['response'][0])\n",
        "            age = pinfo['age']\n",
        "            sex = pinfo['sex']\n",
        "            hand = pinfo['hand']\n",
        "\n",
        "            chosen_idx = df['response']\n",
        "            chosen_idx = chosen_idx.iloc[6:df.shape[0]]\n",
        "            chosen_idx = chosen_idx[[i for i in range(6, df.shape[0], 3)]]\n",
        "            chosen_idx[chosen_idx == 'q'] = resp_map[0]\n",
        "            chosen_idx[chosen_idx == 'p'] = resp_map[1]\n",
        "            chosen_idx[chosen_idx == 'm'] = resp_map[2]\n",
        "            chosen_idx[chosen_idx == 'z'] = resp_map[3]\n",
        "            chosen_idx[pd.isna(chosen_idx)] = -1\n",
        "            chosen_idx = np.array(chosen_idx)\n",
        "\n",
        "            rews = eval('r' + str(trend) + str(stable) + str(num))\n",
        "            rews = rews[0:chosen_idx.shape[0],:]\n",
        "            rews = rews[chosen_idx != -1]\n",
        "            chosen_idx = chosen_idx[chosen_idx != -1]\n",
        "\n",
        "            samp = rews.shape[0]\n",
        "\n",
        "            LB = [0, 0, 0]\n",
        "            UB = [1, 1, 1]\n",
        "            param = np.array([0.1, 0.1, 0.1])\n",
        "            ans = cNM.constrNM(null_neglik, param, LB, UB, args = (rews, chosen_idx,), full_output = True)\n",
        "            param_2 = ans['xopt']\n",
        "            params_null.append(param_2)\n",
        "\n",
        "            LB = [0.01, 0, 0, 0, 0]\n",
        "            UB = [2, 5000, 1, 2, 2]\n",
        "            param = np.array([0.1, 0.1, 0.5, 1, 1])\n",
        "            ans = cNM.constrNM(del_dsm_neglik, param, LB, UB, args = (rews, chosen_idx,), full_output = True)\n",
        "            param_1 = ans['xopt']\n",
        "            params_del_smd.append(param_1)\n",
        "            id = 'del_smd'\n",
        "            print(id)\n",
        "            a, b, c = delta_aic(id, param_1, param_2, rews, chosen_idx)\n",
        "            d, e, f = delta_bic(id, param_1, param_2, rews, chosen_idx, samp)\n",
        "            del_aics1.append(c)\n",
        "            del_bics1.append(f)\n",
        "\n",
        "            LB = [0.01, 0, 0, 0, 0]\n",
        "            UB = [1, 1, 1, 3, 3]\n",
        "            param = np.array([0.1, 0.1, 0.5, 1, 1])\n",
        "            ans = cNM.constrNM(dec_fsm_neglik, param, LB, UB, args = (rews, chosen_idx,), full_output = True)\n",
        "            param_1 = ans['xopt']\n",
        "            params_dec_smf.append(param_1)\n",
        "            id = 'dec_smf'\n",
        "            print(id)\n",
        "            a, b, c = delta_aic(id, param_1, param_2, rews, chosen_idx)\n",
        "            d, e, f = delta_bic(id, param_1, param_2, rews, chosen_idx, samp)\n",
        "            del_aics2.append(c)\n",
        "            del_bics2.append(f)\n",
        "\n",
        "            LB = [0, 0, 0, 0, 0, 0]\n",
        "            UB = [10, 2000, 2000, 2000, 3, 3]\n",
        "            param = np.array([0.1, 2, 0.5, 1, 1, 1])\n",
        "            ans = cNM.constrNM(kf_pmu_neglik, param, LB, UB, args = (rews, chosen_idx,), full_output = True)\n",
        "            param_1 = ans['xopt']\n",
        "            params_kf_pmu.append(param_1)\n",
        "            id = 'kf_pmu'\n",
        "            print(id)\n",
        "            a, b, c = delta_aic(id, param_1, param_2, rews, chosen_idx)\n",
        "            d, e, f = delta_bic(id, param_1, param_2, rews, chosen_idx, samp)\n",
        "            del_aics3.append(c)\n",
        "            del_bics3.append(f)"
      ],
      "execution_count": null,
      "outputs": [
        {
          "output_type": "stream",
          "text": [
            "32\n"
          ],
          "name": "stdout"
        },
        {
          "output_type": "stream",
          "text": [
            "/usr/local/lib/python3.7/dist-packages/ipykernel_launcher.py:59: RuntimeWarning: invalid value encountered in log\n",
            "/usr/local/lib/python3.7/dist-packages/ipykernel_launcher.py:5: RuntimeWarning: overflow encountered in exp\n",
            "  \"\"\"\n",
            "/usr/local/lib/python3.7/dist-packages/ipykernel_launcher.py:5: RuntimeWarning: invalid value encountered in true_divide\n",
            "  \"\"\"\n"
          ],
          "name": "stderr"
        },
        {
          "output_type": "stream",
          "text": [
            "del_smd\n",
            "dec_smf\n"
          ],
          "name": "stdout"
        },
        {
          "output_type": "stream",
          "text": [
            "/usr/local/lib/python3.7/dist-packages/ipykernel_launcher.py:47: RuntimeWarning: divide by zero encountered in log\n"
          ],
          "name": "stderr"
        },
        {
          "output_type": "stream",
          "text": [
            "kf_pmu\n",
            "41\n",
            "del_smd\n",
            "dec_smf\n",
            "kf_pmu\n",
            "51\n",
            "del_smd\n",
            "dec_smf\n",
            "kf_pmu\n",
            "52\n"
          ],
          "name": "stdout"
        },
        {
          "output_type": "stream",
          "text": [
            "/usr/local/lib/python3.7/dist-packages/ipykernel_launcher.py:15: RuntimeWarning: divide by zero encountered in log\n",
            "  from ipykernel import kernelapp as app\n"
          ],
          "name": "stderr"
        },
        {
          "output_type": "stream",
          "text": [
            "del_smd\n",
            "dec_smf\n",
            "kf_pmu\n",
            "57\n",
            "del_smd\n",
            "dec_smf\n",
            "kf_pmu\n",
            "63\n",
            "del_smd\n",
            "dec_smf\n",
            "kf_pmu\n",
            "73\n",
            "del_smd\n",
            "dec_smf\n",
            "kf_pmu\n",
            "76\n",
            "del_smd\n",
            "dec_smf\n",
            "kf_pmu\n",
            "81\n",
            "del_smd\n",
            "dec_smf\n",
            "kf_pmu\n",
            "85\n",
            "del_smd\n",
            "dec_smf\n",
            "kf_pmu\n",
            "86\n",
            "del_smd\n",
            "dec_smf\n",
            "kf_pmu\n",
            "90\n",
            "del_smd\n",
            "dec_smf\n",
            "kf_pmu\n",
            "91\n",
            "del_smd\n",
            "dec_smf\n",
            "kf_pmu\n",
            "98\n",
            "del_smd\n",
            "dec_smf\n",
            "kf_pmu\n",
            "99\n",
            "del_smd\n",
            "dec_smf\n",
            "kf_pmu\n",
            "125\n",
            "del_smd\n",
            "dec_smf\n",
            "kf_pmu\n",
            "139\n",
            "del_smd\n",
            "dec_smf\n",
            "kf_pmu\n",
            "140\n",
            "del_smd\n",
            "dec_smf\n",
            "kf_pmu\n",
            "143\n",
            "del_smd\n",
            "dec_smf\n",
            "kf_pmu\n",
            "148\n",
            "del_smd\n",
            "dec_smf\n",
            "kf_pmu\n",
            "149\n",
            "del_smd\n",
            "dec_smf\n",
            "kf_pmu\n",
            "150\n",
            "del_smd\n",
            "dec_smf\n",
            "kf_pmu\n",
            "152\n",
            "del_smd\n",
            "dec_smf\n",
            "kf_pmu\n",
            "156\n",
            "del_smd\n",
            "dec_smf\n",
            "kf_pmu\n",
            "159\n",
            "del_smd\n",
            "dec_smf\n",
            "kf_pmu\n",
            "161\n",
            "del_smd\n",
            "dec_smf\n",
            "kf_pmu\n",
            "163\n",
            "del_smd\n",
            "dec_smf\n",
            "kf_pmu\n",
            "169\n",
            "del_smd\n",
            "dec_smf\n",
            "kf_pmu\n",
            "170\n",
            "del_smd\n",
            "dec_smf\n",
            "kf_pmu\n",
            "178\n",
            "del_smd\n",
            "dec_smf\n",
            "kf_pmu\n"
          ],
          "name": "stdout"
        }
      ]
    },
    {
      "cell_type": "code",
      "metadata": {
        "id": "bTQASsLKHZ5i"
      },
      "source": [
        "num_tot = len(num_sheet)\n",
        "prob1_aic = np.zeros(num_tot)\n",
        "prob2_aic = np.zeros(num_tot)\n",
        "prob3_aic = np.zeros(num_tot)\n",
        "prob1_bic = np.zeros(num_tot)\n",
        "prob2_bic = np.zeros(num_tot)\n",
        "prob3_bic = np.zeros(num_tot)\n",
        "\n",
        "n_aic = []\n",
        "n_bic = []\n",
        "\n",
        "for i in range(num_tot):\n",
        "    x = np.array([del_aics1[i], del_aics2[i], del_aics3[i]])\n",
        "    y = np.array([del_bics1[i], del_bics2[i], del_bics3[i]])\n",
        "    n_aic.append(np.argmax(x))\n",
        "    n_bic.append(np.argmax(y))\n",
        "\n",
        "    [prob1_aic[i], prob2_aic[i], prob3_aic[i]] = softmax(x, -0.5)\n",
        "    [prob1_bic[i], prob2_bic[i], prob3_bic[i]] = softmax(y, -0.5)"
      ],
      "execution_count": null,
      "outputs": []
    },
    {
      "cell_type": "code",
      "metadata": {
        "colab": {
          "base_uri": "https://localhost:8080/"
        },
        "id": "yE-DFHKqItO2",
        "outputId": "7f5064f6-ac3a-475c-dc02-02d3087276f2"
      },
      "source": [
        "print('For Delta & Dynamic Softmax')\n",
        "print('Mean Δ(AIC) = ' + str(np.mean(del_aics1)))\n",
        "print('Stdev Δ(AIC) = ' + str(np.std(del_aics1)))\n",
        "print('Mean w(AIC) = ' + str(np.mean(prob1_aic)))\n",
        "print('Stdev w(AIC) = ' + str(np.std(prob1_aic)))\n",
        "print('n(AIC) = ' + str(n_aic.count(0)))\n",
        "print('Mean Δ(BIC) = ' + str(np.mean(del_bics1)))\n",
        "print('Stdev Δ(BIC) = ' + str(np.std(del_bics1)))\n",
        "print('Mean w(BIC) = ' + str(np.mean(prob1_bic)))\n",
        "print('Stdev w(BIC) = ' + str(np.std(prob1_bic)))\n",
        "print('n(BIC) = ' + str(n_bic.count(0)))\n",
        "\n",
        "print('For Decay and Fixed Softmax')\n",
        "print('Mean Δ(AIC) = ' + str(np.mean(del_aics2)))\n",
        "print('Stdev Δ(AIC) = ' + str(np.std(del_aics2)))\n",
        "print('Mean w(AIC) = ' + str(np.mean(prob2_aic)))\n",
        "print('Stdev w(AIC) = ' + str(np.std(prob2_aic)))\n",
        "print('n(AIC) = ' + str(n_aic.count(1)))\n",
        "print('Mean Δ(BIC) = ' + str(np.mean(del_bics2)))\n",
        "print('Stdev Δ(BIC) = ' + str(np.std(del_bics2)))\n",
        "print('Mean w(BIC) = ' + str(np.mean(prob2_bic)))\n",
        "print('Stdev w(BIC) = ' + str(np.std(prob2_bic)))\n",
        "print('n(BIC) = ' + str(n_bic.count(1)))\n",
        "\n",
        "print('For Kalman Filter and Probability of Maximum Utility')\n",
        "print('Mean Δ(AIC) = ' + str(np.mean(del_aics3)))\n",
        "print('Stdev Δ(AIC) = ' + str(np.std(del_aics3)))\n",
        "print('Mean w(AIC) = ' + str(np.mean(prob3_aic)))\n",
        "print('Stdev w(AIC) = ' + str(np.std(prob3_aic)))\n",
        "print('n(AIC) = ' + str(n_aic.count(2)))\n",
        "print('Mean Δ(BIC) = ' + str(np.mean(del_bics3)))\n",
        "print('Stdev Δ(BIC) = ' + str(np.std(del_bics3)))\n",
        "print('Mean w(BIC) = ' + str(np.mean(prob3_bic)))\n",
        "print('Stdev w(BIC) = ' + str(np.std(prob3_bic)))\n",
        "print('n(BIC) = ' + str(n_bic.count(2)))\n"
      ],
      "execution_count": null,
      "outputs": [
        {
          "output_type": "stream",
          "text": [
            "For Delta & Dynamic Softmax\n",
            "Mean Δ(AIC) = 216.08777089871927\n",
            "Stdev Δ(AIC) = 94.86955624890834\n",
            "Mean w(AIC) = 0.2494372936696615\n",
            "Stdev w(AIC) = 0.4025924285390597\n",
            "n(AIC) = 10\n",
            "Mean Δ(BIC) = 209.56648153436896\n",
            "Stdev Δ(BIC) = 94.80295448803919\n",
            "Mean w(BIC) = 0.22044294455719732\n",
            "Stdev w(BIC) = 0.39110401028080194\n",
            "n(BIC) = 11\n",
            "For Decay and Fixed Softmax\n",
            "Mean Δ(AIC) = 223.33493442508762\n",
            "Stdev Δ(AIC) = 81.61482375299674\n",
            "Mean w(AIC) = 0.2936530266789596\n",
            "Stdev w(AIC) = 0.4344055663571692\n",
            "n(AIC) = 12\n",
            "Mean Δ(BIC) = 216.81364506073726\n",
            "Stdev Δ(BIC) = 81.54343349388654\n",
            "Mean w(BIC) = 0.2699651384926046\n",
            "Stdev w(BIC) = 0.42374751366251046\n",
            "n(BIC) = 12\n",
            "For Kalman Filter and Probability of Maximum Utility\n",
            "Mean Δ(AIC) = 209.93111511208957\n",
            "Stdev Δ(AIC) = 87.34135640048794\n",
            "Mean w(AIC) = 0.45690967965137885\n",
            "Stdev w(AIC) = 0.45965692383270645\n",
            "n(AIC) = 8\n",
            "Mean Δ(BIC) = 200.14895490696796\n",
            "Stdev Δ(BIC) = 87.23144534390231\n",
            "Mean w(BIC) = 0.5095919169501981\n",
            "Stdev w(BIC) = 0.4695392758524912\n",
            "n(BIC) = 7\n"
          ],
          "name": "stdout"
        }
      ]
    },
    {
      "cell_type": "code",
      "metadata": {
        "colab": {
          "base_uri": "https://localhost:8080/",
          "height": 17
        },
        "id": "4UDozaiGKFxj",
        "outputId": "6d63d520-149d-456e-bc35-7ba73a5585f3"
      },
      "source": [
        "params_null = np.array(params_null)\n",
        "params_del_smd = np.array(params_del_smd)\n",
        "params_dec_smf = np.array(params_dec_smf)\n",
        "params_kf_pmu = np.array(params_kf_pmu)"
      ],
      "execution_count": null,
      "outputs": [
        {
          "output_type": "display_data",
          "data": {
            "application/javascript": [
              "\n",
              "    async function download(id, filename, size) {\n",
              "      if (!google.colab.kernel.accessAllowed) {\n",
              "        return;\n",
              "      }\n",
              "      const div = document.createElement('div');\n",
              "      const label = document.createElement('label');\n",
              "      label.textContent = `Downloading \"${filename}\": `;\n",
              "      div.appendChild(label);\n",
              "      const progress = document.createElement('progress');\n",
              "      progress.max = size;\n",
              "      div.appendChild(progress);\n",
              "      document.body.appendChild(div);\n",
              "\n",
              "      const buffers = [];\n",
              "      let downloaded = 0;\n",
              "\n",
              "      const channel = await google.colab.kernel.comms.open(id);\n",
              "      // Send a message to notify the kernel that we're ready.\n",
              "      channel.send({})\n",
              "\n",
              "      for await (const message of channel.messages) {\n",
              "        // Send a message to notify the kernel that we're ready.\n",
              "        channel.send({})\n",
              "        if (message.buffers) {\n",
              "          for (const buffer of message.buffers) {\n",
              "            buffers.push(buffer);\n",
              "            downloaded += buffer.byteLength;\n",
              "            progress.value = downloaded;\n",
              "          }\n",
              "        }\n",
              "      }\n",
              "      const blob = new Blob(buffers, {type: 'application/binary'});\n",
              "      const a = document.createElement('a');\n",
              "      a.href = window.URL.createObjectURL(blob);\n",
              "      a.download = filename;\n",
              "      div.appendChild(a);\n",
              "      a.click();\n",
              "      div.remove();\n",
              "    }\n",
              "  "
            ],
            "text/plain": [
              "<IPython.core.display.Javascript object>"
            ]
          },
          "metadata": {
            "tags": []
          }
        },
        {
          "output_type": "display_data",
          "data": {
            "application/javascript": [
              "download(\"download_6ba64bc6-a7c8-4290-a36f-88b7039795d2\", \"data.txt\", 8730)"
            ],
            "text/plain": [
              "<IPython.core.display.Javascript object>"
            ]
          },
          "metadata": {
            "tags": []
          }
        }
      ]
    },
    {
      "cell_type": "code",
      "metadata": {
        "colab": {
          "base_uri": "https://localhost:8080/"
        },
        "id": "a3wc7udjwLjt",
        "outputId": "adaa3956-deb7-4efd-d792-bfc98bd3aa2b"
      },
      "source": [
        "from google.colab import drive\n",
        "drive.mount('/content/drive')"
      ],
      "execution_count": null,
      "outputs": [
        {
          "output_type": "stream",
          "text": [
            "Mounted at /content/drive\n"
          ],
          "name": "stdout"
        }
      ]
    },
    {
      "cell_type": "code",
      "metadata": {
        "id": "SzS4INL9xXyC"
      },
      "source": [
        "with open('/content/drive/My Drive/1.pkl', 'wb') as f:\n",
        "    pickle.dump(params_dec_smf, f)\n",
        "\n",
        "with open('/content/drive/My Drive/2.pkl', 'wb') as f:\n",
        "    pickle.dump(params_del_smd, f)\n",
        "\n",
        "with open('/content/drive/My Drive/3.pkl', 'wb') as f:\n",
        "    pickle.dump(params_kf_pmu, f)"
      ],
      "execution_count": null,
      "outputs": []
    },
    {
      "cell_type": "code",
      "metadata": {
        "id": "uX-EncZONE2H"
      },
      "source": [
        "with open('/content/drive/My Drive/1.pkl', 'rb') as f:\n",
        "    params_dec_smf = pickle.load(f)\n",
        "\n",
        "with open('/content/drive/My Drive/2.pkl', 'rb') as f:\n",
        "    params_del_smd = pickle.load(f)\n",
        "\n",
        "with open('/content/drive/My Drive/3.pkl', 'rb') as f:\n",
        "    params_kf_pmu = pickle.load(f)"
      ],
      "execution_count": null,
      "outputs": []
    },
    {
      "cell_type": "code",
      "metadata": {
        "colab": {
          "base_uri": "https://localhost:8080/"
        },
        "id": "t-Fh6tLnNLe2",
        "outputId": "333c79e3-d7dd-4ce8-8e62-29f3e4e46cb4"
      },
      "source": [
        "dec_smf_median = np.median(params_dec_smf, 0)\n",
        "del_smd_median = np.median(params_del_smd, 0)\n",
        "kf_pmu_median = np.median(params_kf_pmu, 0)\n",
        "print(dec_smf_median)\n",
        "# temp, mu0, eta_dec, lamb, alpha\n",
        "print(del_smd_median)\n",
        "# temp, mu0, eta, lamb, alpha\n",
        "print(kf_pmu_median)\n",
        "# mu0, sigma0, sigma_xi, sigma_eps, lamb, alpha"
      ],
      "execution_count": null,
      "outputs": [
        {
          "output_type": "stream",
          "text": [
            "[0.6193635  0.08047683 0.53600066 1.40934193 0.29057638]\n",
            "[1.80471541e-02 6.03078056e+00 8.02797180e-01 2.36951822e-03\n",
            " 3.08516881e-01]\n",
            "[2.12776910e+00 1.29750821e+02 7.47236598e-01 7.51976199e-01\n",
            " 7.27002455e-02 4.68721911e-01]\n"
          ],
          "name": "stdout"
        }
      ]
    },
    {
      "cell_type": "code",
      "metadata": {
        "id": "lVZML5qOOGzm"
      },
      "source": [
        ""
      ],
      "execution_count": null,
      "outputs": []
    }
  ]
}